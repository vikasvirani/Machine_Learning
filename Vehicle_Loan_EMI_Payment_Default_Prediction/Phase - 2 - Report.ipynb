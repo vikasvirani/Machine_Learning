{
 "cells": [
  {
   "cell_type": "markdown",
   "metadata": {},
   "source": [
    "## Vikas Virani (s3715555)\n",
    "## Dev Bharat Doshi (s3715213)"
   ]
  },
  {
   "cell_type": "markdown",
   "metadata": {},
   "source": [
    "# Predicting Payment default in the first EMI on Vehicle Loan\n",
    "\n",
    "The objective of this project is to predict whether it will be Payment default in the first EMI on Vehicle Loan on due date or not using the Loan Default Prediction Dataset from Kaggle<cite data-cite=\"load_default_data\">1</cite>. The original dataset came from L&T Financial Services & Analytics Vidhya presented 'DataScience FinHack' competition.  \n",
    "\n",
    "The Kaggle Machine Learning datasets provides one data set named 'train.csv' under the heading 'Loan Default Prediction'. Names of attributes are adapted from the data description provided in Kaggle. Data set consist of 40 descriptive features and one target feature, out of which, some were dropped & some features were created in Phase-I.\n",
    "\n",
    "This report is organized as follows:\n",
    "- [Section 2 (Overview)](#2) outlines our methodology. \n",
    "- [Section 3 (Data Preparation)](#3) summarizes the data preparation process and our model evaluation strategy. \n",
    "- [Section 4 (Hyperparameter Tuning)](#4) describes the hyperparameter tuning process for each classification algorithm.\n",
    "- [Section 5 (Performance Comparison)](#5) presents model performance comparison results.\n",
    "- [Section 6 (Limitations)](#6) discusses a limitations of our approach and possible solutions. \n",
    "- [Section 7 (Summary)](#7) provides a brief summary of our work in this project.\n",
    "\n",
    "Compiled from a Jupyter Notebook, this report contains both narratives and the Python code used throughout the project."
   ]
  },
  {
   "cell_type": "markdown",
   "metadata": {},
   "source": [
    "# Overview <a class=\"anchor\" id=\"2\"></a> \n",
    "\n",
    "### Methodology\n",
    "\n",
    "We build the following binary classifiers to predict the target feature<cite data-cite=\"classifiers\"> 2</cite>:\n",
    "\n",
    "* K-Nearest Neighbors (KNN),\n",
    "* Bagging , and\n",
    "* XGBoosting (XGB)\n",
    "\n",
    "Methodology begins by transforming the full cleaned dataset from Phase I. It includes encoding categorical descriptive features as numerical and then scaling of all the the descriptive features. We randomly sampled 20K data from dataset & split the sample into training and test sets with a 70:30 ratio and then applied Random UnderSampling Technique to recitfy imbalance in our dataset. After doing under-sampling in our dataset, our training data has around 6K rows and test data has 6K rows.\n",
    "\n",
    "Before selecting & fitting a model, we will select the best features using the Random Forest Importance method inside our pipeline. We will consider 15, 25, and the full set of features (34 features) after encoding all the categorical features.\n",
    "\n",
    "Using feature selection along with hyperparameter search inside a single pipeline, we will apply a 5-fold stratified cross-validation to fine-tune hyperparameters of each classifier using area under curve (AUC), Accuracy Score & Classification Report as the performance metric<cite data-cite=\"metrics\"> 3</cite> as they give more insights on performce than others measure in general or when dataset is imbalanced. We build each model using parallel processing with \"-2\" cores. Since the target has more 0 values (No default) than 1 values (default) (unbalanced target class issue), stratification is important to ensure that each validation set has the same proportion of classes as in the original dataset. We will also examine sensitivity of each model with respect to its hyperparameters during the search.\n",
    "\n",
    "Once the best model is identified for each of these three classifiers using a hyperparameter search on the training data, we will apply a 10-fold cross-validation on the test data and perform a paired t-test to see if any performance difference is statistically significant. In addition, we will compare the classifiers with respect to their recall scores and confusion matrices on the test data."
   ]
  },
  {
   "cell_type": "markdown",
   "metadata": {},
   "source": [
    "# Data Preparation <a class=\"anchor\" id=\"3\"></a> \n",
    "\n",
    "## Loading Dataset\n",
    "\n",
    "We read dataset from the local storage. Also, since the data set contains the attribute names, we do not need to explicitly specify those during loading the data sets."
   ]
  },
  {
   "cell_type": "code",
   "execution_count": 1,
   "metadata": {},
   "outputs": [],
   "source": [
    "#pd.show_versions(as_json=False)\n",
    "import pandas as pd\n",
    "import numpy as np\n",
    "import matplotlib.pyplot as plt\n",
    "import seaborn as sns\n",
    "from pandas.plotting import scatter_matrix\n",
    "\n",
    "# set seed for reproducibility of results\n",
    "np.random.seed(999)"
   ]
  },
  {
   "cell_type": "code",
   "execution_count": 2,
   "metadata": {},
   "outputs": [
    {
     "data": {
      "text/plain": [
       "disbursed_amount                         int64\n",
       "asset_cost                               int64\n",
       "ltv                                    float64\n",
       "branch_id                                int64\n",
       "manufacturer_id                          int64\n",
       "Employment.Type                         object\n",
       "State_ID                                 int64\n",
       "MobileNo_Avl_Flag                        int64\n",
       "Aadhar_flag                              int64\n",
       "PAN_flag                                 int64\n",
       "VoterID_flag                             int64\n",
       "Driving_flag                             int64\n",
       "Passport_flag                            int64\n",
       "PERFORM_CNS.SCORE                        int64\n",
       "PERFORM_CNS.SCORE.DESCRIPTION            int64\n",
       "PRI.NO.OF.ACCTS                          int64\n",
       "PRI.ACTIVE.ACCTS                         int64\n",
       "PRI.OVERDUE.ACCTS                        int64\n",
       "PRI.CURRENT.BALANCE                      int64\n",
       "PRI.SANCTIONED.AMOUNT                    int64\n",
       "PRI.DISBURSED.AMOUNT                     int64\n",
       "SEC.NO.OF.ACCTS                          int64\n",
       "SEC.ACTIVE.ACCTS                         int64\n",
       "SEC.OVERDUE.ACCTS                        int64\n",
       "SEC.CURRENT.BALANCE                      int64\n",
       "SEC.SANCTIONED.AMOUNT                    int64\n",
       "SEC.DISBURSED.AMOUNT                     int64\n",
       "PRIMARY.INSTAL.AMT                       int64\n",
       "SEC.INSTAL.AMT                           int64\n",
       "NEW.ACCTS.IN.LAST.SIX.MONTHS             int64\n",
       "DELINQUENT.ACCTS.IN.LAST.SIX.MONTHS      int64\n",
       "NO.OF_INQUIRIES                          int64\n",
       "loan_default                             int64\n",
       "Age                                      int64\n",
       "AvgAcctAge                               int64\n",
       "CredAcctAge                              int64\n",
       "dtype: object"
      ]
     },
     "execution_count": 2,
     "metadata": {},
     "output_type": "execute_result"
    }
   ],
   "source": [
    "Loan_Data1 = pd.read_csv('Loan_Default_Data2.csv', sep = \",\")\n",
    "Loan_Data1.dtypes"
   ]
  },
  {
   "cell_type": "code",
   "execution_count": 3,
   "metadata": {},
   "outputs": [
    {
     "name": "stdout",
     "output_type": "stream",
     "text": [
      "(233154, 36)\n"
     ]
    },
    {
     "data": {
      "text/plain": [
       "array(['disbursed_amount', 'asset_cost', 'ltv', 'branch_id',\n",
       "       'manufacturer_id', 'Employment.Type', 'State_ID',\n",
       "       'MobileNo_Avl_Flag', 'Aadhar_flag', 'PAN_flag', 'VoterID_flag',\n",
       "       'Driving_flag', 'Passport_flag', 'PERFORM_CNS.SCORE',\n",
       "       'PERFORM_CNS.SCORE.DESCRIPTION', 'PRI.NO.OF.ACCTS',\n",
       "       'PRI.ACTIVE.ACCTS', 'PRI.OVERDUE.ACCTS', 'PRI.CURRENT.BALANCE',\n",
       "       'PRI.SANCTIONED.AMOUNT', 'PRI.DISBURSED.AMOUNT', 'SEC.NO.OF.ACCTS',\n",
       "       'SEC.ACTIVE.ACCTS', 'SEC.OVERDUE.ACCTS', 'SEC.CURRENT.BALANCE',\n",
       "       'SEC.SANCTIONED.AMOUNT', 'SEC.DISBURSED.AMOUNT',\n",
       "       'PRIMARY.INSTAL.AMT', 'SEC.INSTAL.AMT',\n",
       "       'NEW.ACCTS.IN.LAST.SIX.MONTHS',\n",
       "       'DELINQUENT.ACCTS.IN.LAST.SIX.MONTHS', 'NO.OF_INQUIRIES',\n",
       "       'loan_default', 'Age', 'AvgAcctAge', 'CredAcctAge'], dtype=object)"
      ]
     },
     "execution_count": 3,
     "metadata": {},
     "output_type": "execute_result"
    }
   ],
   "source": [
    "print(Loan_Data1.shape)\n",
    "\n",
    "Loan_Data1.columns.values"
   ]
  },
  {
   "cell_type": "markdown",
   "metadata": {},
   "source": [
    "## Checking for Missing Values\n",
    "\n",
    "Let's make sure we do not have any missing values."
   ]
  },
  {
   "cell_type": "code",
   "execution_count": 4,
   "metadata": {},
   "outputs": [
    {
     "name": "stdout",
     "output_type": "stream",
     "text": [
      "Null Counts: \n",
      "\n"
     ]
    },
    {
     "data": {
      "text/plain": [
       "disbursed_amount                       0\n",
       "asset_cost                             0\n",
       "ltv                                    0\n",
       "branch_id                              0\n",
       "manufacturer_id                        0\n",
       "Employment.Type                        0\n",
       "State_ID                               0\n",
       "MobileNo_Avl_Flag                      0\n",
       "Aadhar_flag                            0\n",
       "PAN_flag                               0\n",
       "VoterID_flag                           0\n",
       "Driving_flag                           0\n",
       "Passport_flag                          0\n",
       "PERFORM_CNS.SCORE                      0\n",
       "PERFORM_CNS.SCORE.DESCRIPTION          0\n",
       "PRI.NO.OF.ACCTS                        0\n",
       "PRI.ACTIVE.ACCTS                       0\n",
       "PRI.OVERDUE.ACCTS                      0\n",
       "PRI.CURRENT.BALANCE                    0\n",
       "PRI.SANCTIONED.AMOUNT                  0\n",
       "PRI.DISBURSED.AMOUNT                   0\n",
       "SEC.NO.OF.ACCTS                        0\n",
       "SEC.ACTIVE.ACCTS                       0\n",
       "SEC.OVERDUE.ACCTS                      0\n",
       "SEC.CURRENT.BALANCE                    0\n",
       "SEC.SANCTIONED.AMOUNT                  0\n",
       "SEC.DISBURSED.AMOUNT                   0\n",
       "PRIMARY.INSTAL.AMT                     0\n",
       "SEC.INSTAL.AMT                         0\n",
       "NEW.ACCTS.IN.LAST.SIX.MONTHS           0\n",
       "DELINQUENT.ACCTS.IN.LAST.SIX.MONTHS    0\n",
       "NO.OF_INQUIRIES                        0\n",
       "loan_default                           0\n",
       "Age                                    0\n",
       "AvgAcctAge                             0\n",
       "CredAcctAge                            0\n",
       "dtype: int64"
      ]
     },
     "execution_count": 4,
     "metadata": {},
     "output_type": "execute_result"
    }
   ],
   "source": [
    "print('Null Counts: ')\n",
    "print('')\n",
    "Loan_Data1.isnull().sum()"
   ]
  },
  {
   "cell_type": "markdown",
   "metadata": {},
   "source": [
    "Let's have a look at 5 randomly selected rows in this raw dataset."
   ]
  },
  {
   "cell_type": "code",
   "execution_count": 5,
   "metadata": {},
   "outputs": [
    {
     "data": {
      "text/html": [
       "<div>\n",
       "<style scoped>\n",
       "    .dataframe tbody tr th:only-of-type {\n",
       "        vertical-align: middle;\n",
       "    }\n",
       "\n",
       "    .dataframe tbody tr th {\n",
       "        vertical-align: top;\n",
       "    }\n",
       "\n",
       "    .dataframe thead th {\n",
       "        text-align: right;\n",
       "    }\n",
       "</style>\n",
       "<table border=\"1\" class=\"dataframe\">\n",
       "  <thead>\n",
       "    <tr style=\"text-align: right;\">\n",
       "      <th></th>\n",
       "      <th>disbursed_amount</th>\n",
       "      <th>asset_cost</th>\n",
       "      <th>ltv</th>\n",
       "      <th>branch_id</th>\n",
       "      <th>manufacturer_id</th>\n",
       "      <th>Employment.Type</th>\n",
       "      <th>State_ID</th>\n",
       "      <th>MobileNo_Avl_Flag</th>\n",
       "      <th>Aadhar_flag</th>\n",
       "      <th>PAN_flag</th>\n",
       "      <th>...</th>\n",
       "      <th>SEC.DISBURSED.AMOUNT</th>\n",
       "      <th>PRIMARY.INSTAL.AMT</th>\n",
       "      <th>SEC.INSTAL.AMT</th>\n",
       "      <th>NEW.ACCTS.IN.LAST.SIX.MONTHS</th>\n",
       "      <th>DELINQUENT.ACCTS.IN.LAST.SIX.MONTHS</th>\n",
       "      <th>NO.OF_INQUIRIES</th>\n",
       "      <th>loan_default</th>\n",
       "      <th>Age</th>\n",
       "      <th>AvgAcctAge</th>\n",
       "      <th>CredAcctAge</th>\n",
       "    </tr>\n",
       "  </thead>\n",
       "  <tbody>\n",
       "    <tr>\n",
       "      <th>93908</th>\n",
       "      <td>61947</td>\n",
       "      <td>76652</td>\n",
       "      <td>83.49</td>\n",
       "      <td>251</td>\n",
       "      <td>86</td>\n",
       "      <td>Self employed</td>\n",
       "      <td>13</td>\n",
       "      <td>1</td>\n",
       "      <td>1</td>\n",
       "      <td>1</td>\n",
       "      <td>...</td>\n",
       "      <td>0</td>\n",
       "      <td>0</td>\n",
       "      <td>0</td>\n",
       "      <td>0</td>\n",
       "      <td>0</td>\n",
       "      <td>0</td>\n",
       "      <td>1</td>\n",
       "      <td>28</td>\n",
       "      <td>0</td>\n",
       "      <td>0</td>\n",
       "    </tr>\n",
       "    <tr>\n",
       "      <th>48966</th>\n",
       "      <td>32734</td>\n",
       "      <td>70590</td>\n",
       "      <td>48.17</td>\n",
       "      <td>74</td>\n",
       "      <td>86</td>\n",
       "      <td>Salaried</td>\n",
       "      <td>4</td>\n",
       "      <td>1</td>\n",
       "      <td>1</td>\n",
       "      <td>0</td>\n",
       "      <td>...</td>\n",
       "      <td>0</td>\n",
       "      <td>71084</td>\n",
       "      <td>0</td>\n",
       "      <td>0</td>\n",
       "      <td>0</td>\n",
       "      <td>0</td>\n",
       "      <td>0</td>\n",
       "      <td>34</td>\n",
       "      <td>8</td>\n",
       "      <td>20</td>\n",
       "    </tr>\n",
       "    <tr>\n",
       "      <th>86749</th>\n",
       "      <td>65669</td>\n",
       "      <td>71946</td>\n",
       "      <td>93.13</td>\n",
       "      <td>13</td>\n",
       "      <td>86</td>\n",
       "      <td>Salaried</td>\n",
       "      <td>8</td>\n",
       "      <td>1</td>\n",
       "      <td>1</td>\n",
       "      <td>0</td>\n",
       "      <td>...</td>\n",
       "      <td>0</td>\n",
       "      <td>25991</td>\n",
       "      <td>0</td>\n",
       "      <td>1</td>\n",
       "      <td>0</td>\n",
       "      <td>2</td>\n",
       "      <td>1</td>\n",
       "      <td>34</td>\n",
       "      <td>15</td>\n",
       "      <td>36</td>\n",
       "    </tr>\n",
       "    <tr>\n",
       "      <th>227795</th>\n",
       "      <td>76882</td>\n",
       "      <td>122131</td>\n",
       "      <td>64.79</td>\n",
       "      <td>254</td>\n",
       "      <td>48</td>\n",
       "      <td>Self employed</td>\n",
       "      <td>13</td>\n",
       "      <td>1</td>\n",
       "      <td>0</td>\n",
       "      <td>1</td>\n",
       "      <td>...</td>\n",
       "      <td>0</td>\n",
       "      <td>0</td>\n",
       "      <td>0</td>\n",
       "      <td>0</td>\n",
       "      <td>0</td>\n",
       "      <td>0</td>\n",
       "      <td>0</td>\n",
       "      <td>40</td>\n",
       "      <td>0</td>\n",
       "      <td>0</td>\n",
       "    </tr>\n",
       "    <tr>\n",
       "      <th>65517</th>\n",
       "      <td>49349</td>\n",
       "      <td>69662</td>\n",
       "      <td>71.78</td>\n",
       "      <td>9</td>\n",
       "      <td>86</td>\n",
       "      <td>Self employed</td>\n",
       "      <td>3</td>\n",
       "      <td>1</td>\n",
       "      <td>1</td>\n",
       "      <td>0</td>\n",
       "      <td>...</td>\n",
       "      <td>0</td>\n",
       "      <td>1350</td>\n",
       "      <td>0</td>\n",
       "      <td>0</td>\n",
       "      <td>0</td>\n",
       "      <td>0</td>\n",
       "      <td>0</td>\n",
       "      <td>34</td>\n",
       "      <td>25</td>\n",
       "      <td>25</td>\n",
       "    </tr>\n",
       "  </tbody>\n",
       "</table>\n",
       "<p>5 rows × 36 columns</p>\n",
       "</div>"
      ],
      "text/plain": [
       "        disbursed_amount  asset_cost    ltv  branch_id  manufacturer_id  \\\n",
       "93908              61947       76652  83.49        251               86   \n",
       "48966              32734       70590  48.17         74               86   \n",
       "86749              65669       71946  93.13         13               86   \n",
       "227795             76882      122131  64.79        254               48   \n",
       "65517              49349       69662  71.78          9               86   \n",
       "\n",
       "       Employment.Type  State_ID  MobileNo_Avl_Flag  Aadhar_flag  PAN_flag  \\\n",
       "93908    Self employed        13                  1            1         1   \n",
       "48966         Salaried         4                  1            1         0   \n",
       "86749         Salaried         8                  1            1         0   \n",
       "227795   Self employed        13                  1            0         1   \n",
       "65517    Self employed         3                  1            1         0   \n",
       "\n",
       "        ...  SEC.DISBURSED.AMOUNT  PRIMARY.INSTAL.AMT  SEC.INSTAL.AMT  \\\n",
       "93908   ...                     0                   0               0   \n",
       "48966   ...                     0               71084               0   \n",
       "86749   ...                     0               25991               0   \n",
       "227795  ...                     0                   0               0   \n",
       "65517   ...                     0                1350               0   \n",
       "\n",
       "        NEW.ACCTS.IN.LAST.SIX.MONTHS  DELINQUENT.ACCTS.IN.LAST.SIX.MONTHS  \\\n",
       "93908                              0                                    0   \n",
       "48966                              0                                    0   \n",
       "86749                              1                                    0   \n",
       "227795                             0                                    0   \n",
       "65517                              0                                    0   \n",
       "\n",
       "        NO.OF_INQUIRIES  loan_default  Age  AvgAcctAge  CredAcctAge  \n",
       "93908                 0             1   28           0            0  \n",
       "48966                 0             0   34           8           20  \n",
       "86749                 2             1   34          15           36  \n",
       "227795                0             0   40           0            0  \n",
       "65517                 0             0   34          25           25  \n",
       "\n",
       "[5 rows x 36 columns]"
      ]
     },
     "execution_count": 5,
     "metadata": {},
     "output_type": "execute_result"
    }
   ],
   "source": [
    "Loan_Data1.sample(n=5, random_state=999)"
   ]
  },
  {
   "cell_type": "markdown",
   "metadata": {},
   "source": [
    "## Summary Statistics\n",
    "\n",
    "The summary statistics for the full data are shown below."
   ]
  },
  {
   "cell_type": "code",
   "execution_count": 6,
   "metadata": {
    "scrolled": false
   },
   "outputs": [
    {
     "data": {
      "text/html": [
       "<div>\n",
       "<style scoped>\n",
       "    .dataframe tbody tr th:only-of-type {\n",
       "        vertical-align: middle;\n",
       "    }\n",
       "\n",
       "    .dataframe tbody tr th {\n",
       "        vertical-align: top;\n",
       "    }\n",
       "\n",
       "    .dataframe thead th {\n",
       "        text-align: right;\n",
       "    }\n",
       "</style>\n",
       "<table border=\"1\" class=\"dataframe\">\n",
       "  <thead>\n",
       "    <tr style=\"text-align: right;\">\n",
       "      <th></th>\n",
       "      <th>disbursed_amount</th>\n",
       "      <th>asset_cost</th>\n",
       "      <th>ltv</th>\n",
       "      <th>branch_id</th>\n",
       "      <th>manufacturer_id</th>\n",
       "      <th>Employment.Type</th>\n",
       "      <th>State_ID</th>\n",
       "      <th>MobileNo_Avl_Flag</th>\n",
       "      <th>Aadhar_flag</th>\n",
       "      <th>PAN_flag</th>\n",
       "      <th>...</th>\n",
       "      <th>SEC.DISBURSED.AMOUNT</th>\n",
       "      <th>PRIMARY.INSTAL.AMT</th>\n",
       "      <th>SEC.INSTAL.AMT</th>\n",
       "      <th>NEW.ACCTS.IN.LAST.SIX.MONTHS</th>\n",
       "      <th>DELINQUENT.ACCTS.IN.LAST.SIX.MONTHS</th>\n",
       "      <th>NO.OF_INQUIRIES</th>\n",
       "      <th>loan_default</th>\n",
       "      <th>Age</th>\n",
       "      <th>AvgAcctAge</th>\n",
       "      <th>CredAcctAge</th>\n",
       "    </tr>\n",
       "  </thead>\n",
       "  <tbody>\n",
       "    <tr>\n",
       "      <th>count</th>\n",
       "      <td>233154.000000</td>\n",
       "      <td>2.331540e+05</td>\n",
       "      <td>233154.000000</td>\n",
       "      <td>233154.000000</td>\n",
       "      <td>233154.000000</td>\n",
       "      <td>233154</td>\n",
       "      <td>233154.000000</td>\n",
       "      <td>233154.0</td>\n",
       "      <td>233154.00000</td>\n",
       "      <td>233154.000000</td>\n",
       "      <td>...</td>\n",
       "      <td>2.331540e+05</td>\n",
       "      <td>2.331540e+05</td>\n",
       "      <td>2.331540e+05</td>\n",
       "      <td>233154.000000</td>\n",
       "      <td>233154.000000</td>\n",
       "      <td>233154.000000</td>\n",
       "      <td>233154.000000</td>\n",
       "      <td>233154.000000</td>\n",
       "      <td>233154.000000</td>\n",
       "      <td>233154.000000</td>\n",
       "    </tr>\n",
       "    <tr>\n",
       "      <th>unique</th>\n",
       "      <td>NaN</td>\n",
       "      <td>NaN</td>\n",
       "      <td>NaN</td>\n",
       "      <td>NaN</td>\n",
       "      <td>NaN</td>\n",
       "      <td>3</td>\n",
       "      <td>NaN</td>\n",
       "      <td>NaN</td>\n",
       "      <td>NaN</td>\n",
       "      <td>NaN</td>\n",
       "      <td>...</td>\n",
       "      <td>NaN</td>\n",
       "      <td>NaN</td>\n",
       "      <td>NaN</td>\n",
       "      <td>NaN</td>\n",
       "      <td>NaN</td>\n",
       "      <td>NaN</td>\n",
       "      <td>NaN</td>\n",
       "      <td>NaN</td>\n",
       "      <td>NaN</td>\n",
       "      <td>NaN</td>\n",
       "    </tr>\n",
       "    <tr>\n",
       "      <th>top</th>\n",
       "      <td>NaN</td>\n",
       "      <td>NaN</td>\n",
       "      <td>NaN</td>\n",
       "      <td>NaN</td>\n",
       "      <td>NaN</td>\n",
       "      <td>Self employed</td>\n",
       "      <td>NaN</td>\n",
       "      <td>NaN</td>\n",
       "      <td>NaN</td>\n",
       "      <td>NaN</td>\n",
       "      <td>...</td>\n",
       "      <td>NaN</td>\n",
       "      <td>NaN</td>\n",
       "      <td>NaN</td>\n",
       "      <td>NaN</td>\n",
       "      <td>NaN</td>\n",
       "      <td>NaN</td>\n",
       "      <td>NaN</td>\n",
       "      <td>NaN</td>\n",
       "      <td>NaN</td>\n",
       "      <td>NaN</td>\n",
       "    </tr>\n",
       "    <tr>\n",
       "      <th>freq</th>\n",
       "      <td>NaN</td>\n",
       "      <td>NaN</td>\n",
       "      <td>NaN</td>\n",
       "      <td>NaN</td>\n",
       "      <td>NaN</td>\n",
       "      <td>127635</td>\n",
       "      <td>NaN</td>\n",
       "      <td>NaN</td>\n",
       "      <td>NaN</td>\n",
       "      <td>NaN</td>\n",
       "      <td>...</td>\n",
       "      <td>NaN</td>\n",
       "      <td>NaN</td>\n",
       "      <td>NaN</td>\n",
       "      <td>NaN</td>\n",
       "      <td>NaN</td>\n",
       "      <td>NaN</td>\n",
       "      <td>NaN</td>\n",
       "      <td>NaN</td>\n",
       "      <td>NaN</td>\n",
       "      <td>NaN</td>\n",
       "    </tr>\n",
       "    <tr>\n",
       "      <th>mean</th>\n",
       "      <td>54356.993528</td>\n",
       "      <td>7.586507e+04</td>\n",
       "      <td>74.746530</td>\n",
       "      <td>72.936094</td>\n",
       "      <td>69.028054</td>\n",
       "      <td>NaN</td>\n",
       "      <td>7.262243</td>\n",
       "      <td>1.0</td>\n",
       "      <td>0.84032</td>\n",
       "      <td>0.075577</td>\n",
       "      <td>...</td>\n",
       "      <td>7.179998e+03</td>\n",
       "      <td>1.310548e+04</td>\n",
       "      <td>3.232684e+02</td>\n",
       "      <td>0.381833</td>\n",
       "      <td>0.097481</td>\n",
       "      <td>0.206615</td>\n",
       "      <td>0.217071</td>\n",
       "      <td>36.100946</td>\n",
       "      <td>8.915764</td>\n",
       "      <td>16.252404</td>\n",
       "    </tr>\n",
       "    <tr>\n",
       "      <th>std</th>\n",
       "      <td>12971.314171</td>\n",
       "      <td>1.894478e+04</td>\n",
       "      <td>11.456636</td>\n",
       "      <td>69.834995</td>\n",
       "      <td>22.141304</td>\n",
       "      <td>NaN</td>\n",
       "      <td>4.482230</td>\n",
       "      <td>0.0</td>\n",
       "      <td>0.36631</td>\n",
       "      <td>0.264320</td>\n",
       "      <td>...</td>\n",
       "      <td>1.825925e+05</td>\n",
       "      <td>1.513679e+05</td>\n",
       "      <td>1.555369e+04</td>\n",
       "      <td>0.955107</td>\n",
       "      <td>0.384439</td>\n",
       "      <td>0.706498</td>\n",
       "      <td>0.412252</td>\n",
       "      <td>9.805992</td>\n",
       "      <td>15.106416</td>\n",
       "      <td>28.581255</td>\n",
       "    </tr>\n",
       "    <tr>\n",
       "      <th>min</th>\n",
       "      <td>13320.000000</td>\n",
       "      <td>3.700000e+04</td>\n",
       "      <td>10.030000</td>\n",
       "      <td>1.000000</td>\n",
       "      <td>45.000000</td>\n",
       "      <td>NaN</td>\n",
       "      <td>1.000000</td>\n",
       "      <td>1.0</td>\n",
       "      <td>0.00000</td>\n",
       "      <td>0.000000</td>\n",
       "      <td>...</td>\n",
       "      <td>0.000000e+00</td>\n",
       "      <td>0.000000e+00</td>\n",
       "      <td>0.000000e+00</td>\n",
       "      <td>0.000000</td>\n",
       "      <td>0.000000</td>\n",
       "      <td>0.000000</td>\n",
       "      <td>0.000000</td>\n",
       "      <td>20.000000</td>\n",
       "      <td>0.000000</td>\n",
       "      <td>0.000000</td>\n",
       "    </tr>\n",
       "    <tr>\n",
       "      <th>25%</th>\n",
       "      <td>47145.000000</td>\n",
       "      <td>6.571700e+04</td>\n",
       "      <td>68.880000</td>\n",
       "      <td>14.000000</td>\n",
       "      <td>48.000000</td>\n",
       "      <td>NaN</td>\n",
       "      <td>4.000000</td>\n",
       "      <td>1.0</td>\n",
       "      <td>1.00000</td>\n",
       "      <td>0.000000</td>\n",
       "      <td>...</td>\n",
       "      <td>0.000000e+00</td>\n",
       "      <td>0.000000e+00</td>\n",
       "      <td>0.000000e+00</td>\n",
       "      <td>0.000000</td>\n",
       "      <td>0.000000</td>\n",
       "      <td>0.000000</td>\n",
       "      <td>0.000000</td>\n",
       "      <td>28.000000</td>\n",
       "      <td>0.000000</td>\n",
       "      <td>0.000000</td>\n",
       "    </tr>\n",
       "    <tr>\n",
       "      <th>50%</th>\n",
       "      <td>53803.000000</td>\n",
       "      <td>7.094600e+04</td>\n",
       "      <td>76.800000</td>\n",
       "      <td>61.000000</td>\n",
       "      <td>86.000000</td>\n",
       "      <td>NaN</td>\n",
       "      <td>6.000000</td>\n",
       "      <td>1.0</td>\n",
       "      <td>1.00000</td>\n",
       "      <td>0.000000</td>\n",
       "      <td>...</td>\n",
       "      <td>0.000000e+00</td>\n",
       "      <td>0.000000e+00</td>\n",
       "      <td>0.000000e+00</td>\n",
       "      <td>0.000000</td>\n",
       "      <td>0.000000</td>\n",
       "      <td>0.000000</td>\n",
       "      <td>0.000000</td>\n",
       "      <td>34.000000</td>\n",
       "      <td>0.000000</td>\n",
       "      <td>0.000000</td>\n",
       "    </tr>\n",
       "    <tr>\n",
       "      <th>75%</th>\n",
       "      <td>60413.000000</td>\n",
       "      <td>7.920175e+04</td>\n",
       "      <td>83.670000</td>\n",
       "      <td>130.000000</td>\n",
       "      <td>86.000000</td>\n",
       "      <td>NaN</td>\n",
       "      <td>10.000000</td>\n",
       "      <td>1.0</td>\n",
       "      <td>1.00000</td>\n",
       "      <td>0.000000</td>\n",
       "      <td>...</td>\n",
       "      <td>0.000000e+00</td>\n",
       "      <td>1.999000e+03</td>\n",
       "      <td>0.000000e+00</td>\n",
       "      <td>0.000000</td>\n",
       "      <td>0.000000</td>\n",
       "      <td>0.000000</td>\n",
       "      <td>0.000000</td>\n",
       "      <td>43.000000</td>\n",
       "      <td>13.000000</td>\n",
       "      <td>24.000000</td>\n",
       "    </tr>\n",
       "    <tr>\n",
       "      <th>max</th>\n",
       "      <td>990572.000000</td>\n",
       "      <td>1.628992e+06</td>\n",
       "      <td>95.000000</td>\n",
       "      <td>261.000000</td>\n",
       "      <td>156.000000</td>\n",
       "      <td>NaN</td>\n",
       "      <td>22.000000</td>\n",
       "      <td>1.0</td>\n",
       "      <td>1.00000</td>\n",
       "      <td>1.000000</td>\n",
       "      <td>...</td>\n",
       "      <td>3.000000e+07</td>\n",
       "      <td>2.564281e+07</td>\n",
       "      <td>4.170901e+06</td>\n",
       "      <td>35.000000</td>\n",
       "      <td>20.000000</td>\n",
       "      <td>36.000000</td>\n",
       "      <td>1.000000</td>\n",
       "      <td>71.000000</td>\n",
       "      <td>369.000000</td>\n",
       "      <td>468.000000</td>\n",
       "    </tr>\n",
       "  </tbody>\n",
       "</table>\n",
       "<p>11 rows × 36 columns</p>\n",
       "</div>"
      ],
      "text/plain": [
       "        disbursed_amount    asset_cost            ltv      branch_id  \\\n",
       "count      233154.000000  2.331540e+05  233154.000000  233154.000000   \n",
       "unique               NaN           NaN            NaN            NaN   \n",
       "top                  NaN           NaN            NaN            NaN   \n",
       "freq                 NaN           NaN            NaN            NaN   \n",
       "mean        54356.993528  7.586507e+04      74.746530      72.936094   \n",
       "std         12971.314171  1.894478e+04      11.456636      69.834995   \n",
       "min         13320.000000  3.700000e+04      10.030000       1.000000   \n",
       "25%         47145.000000  6.571700e+04      68.880000      14.000000   \n",
       "50%         53803.000000  7.094600e+04      76.800000      61.000000   \n",
       "75%         60413.000000  7.920175e+04      83.670000     130.000000   \n",
       "max        990572.000000  1.628992e+06      95.000000     261.000000   \n",
       "\n",
       "        manufacturer_id Employment.Type       State_ID  MobileNo_Avl_Flag  \\\n",
       "count     233154.000000          233154  233154.000000           233154.0   \n",
       "unique              NaN               3            NaN                NaN   \n",
       "top                 NaN   Self employed            NaN                NaN   \n",
       "freq                NaN          127635            NaN                NaN   \n",
       "mean          69.028054             NaN       7.262243                1.0   \n",
       "std           22.141304             NaN       4.482230                0.0   \n",
       "min           45.000000             NaN       1.000000                1.0   \n",
       "25%           48.000000             NaN       4.000000                1.0   \n",
       "50%           86.000000             NaN       6.000000                1.0   \n",
       "75%           86.000000             NaN      10.000000                1.0   \n",
       "max          156.000000             NaN      22.000000                1.0   \n",
       "\n",
       "         Aadhar_flag       PAN_flag  ...  SEC.DISBURSED.AMOUNT  \\\n",
       "count   233154.00000  233154.000000  ...          2.331540e+05   \n",
       "unique           NaN            NaN  ...                   NaN   \n",
       "top              NaN            NaN  ...                   NaN   \n",
       "freq             NaN            NaN  ...                   NaN   \n",
       "mean         0.84032       0.075577  ...          7.179998e+03   \n",
       "std          0.36631       0.264320  ...          1.825925e+05   \n",
       "min          0.00000       0.000000  ...          0.000000e+00   \n",
       "25%          1.00000       0.000000  ...          0.000000e+00   \n",
       "50%          1.00000       0.000000  ...          0.000000e+00   \n",
       "75%          1.00000       0.000000  ...          0.000000e+00   \n",
       "max          1.00000       1.000000  ...          3.000000e+07   \n",
       "\n",
       "        PRIMARY.INSTAL.AMT  SEC.INSTAL.AMT  NEW.ACCTS.IN.LAST.SIX.MONTHS  \\\n",
       "count         2.331540e+05    2.331540e+05                 233154.000000   \n",
       "unique                 NaN             NaN                           NaN   \n",
       "top                    NaN             NaN                           NaN   \n",
       "freq                   NaN             NaN                           NaN   \n",
       "mean          1.310548e+04    3.232684e+02                      0.381833   \n",
       "std           1.513679e+05    1.555369e+04                      0.955107   \n",
       "min           0.000000e+00    0.000000e+00                      0.000000   \n",
       "25%           0.000000e+00    0.000000e+00                      0.000000   \n",
       "50%           0.000000e+00    0.000000e+00                      0.000000   \n",
       "75%           1.999000e+03    0.000000e+00                      0.000000   \n",
       "max           2.564281e+07    4.170901e+06                     35.000000   \n",
       "\n",
       "        DELINQUENT.ACCTS.IN.LAST.SIX.MONTHS  NO.OF_INQUIRIES   loan_default  \\\n",
       "count                         233154.000000    233154.000000  233154.000000   \n",
       "unique                                  NaN              NaN            NaN   \n",
       "top                                     NaN              NaN            NaN   \n",
       "freq                                    NaN              NaN            NaN   \n",
       "mean                               0.097481         0.206615       0.217071   \n",
       "std                                0.384439         0.706498       0.412252   \n",
       "min                                0.000000         0.000000       0.000000   \n",
       "25%                                0.000000         0.000000       0.000000   \n",
       "50%                                0.000000         0.000000       0.000000   \n",
       "75%                                0.000000         0.000000       0.000000   \n",
       "max                               20.000000        36.000000       1.000000   \n",
       "\n",
       "                  Age     AvgAcctAge    CredAcctAge  \n",
       "count   233154.000000  233154.000000  233154.000000  \n",
       "unique            NaN            NaN            NaN  \n",
       "top               NaN            NaN            NaN  \n",
       "freq              NaN            NaN            NaN  \n",
       "mean        36.100946       8.915764      16.252404  \n",
       "std          9.805992      15.106416      28.581255  \n",
       "min         20.000000       0.000000       0.000000  \n",
       "25%         28.000000       0.000000       0.000000  \n",
       "50%         34.000000       0.000000       0.000000  \n",
       "75%         43.000000      13.000000      24.000000  \n",
       "max         71.000000     369.000000     468.000000  \n",
       "\n",
       "[11 rows x 36 columns]"
      ]
     },
     "execution_count": 6,
     "metadata": {},
     "output_type": "execute_result"
    }
   ],
   "source": [
    "Loan_Data1.describe(include='all')"
   ]
  },
  {
   "cell_type": "markdown",
   "metadata": {},
   "source": [
    "## Encoding Categorical Features\n",
    "\n",
    "Before modeling, it is necessary to encode all categorical features (both the target feature and the descriptive features) into a set of numerical features.\n",
    "\n",
    "### Encoding the Target Feature\n",
    "As our Target feature is already enccoded as 1 & 0, Default & No Default, we do not need to change anything.\n"
   ]
  },
  {
   "cell_type": "markdown",
   "metadata": {},
   "source": [
    "We will drop the unnecessary fetures from our dataset & split the dataset into Predictive features & Target feature."
   ]
  },
  {
   "cell_type": "code",
   "execution_count": 7,
   "metadata": {},
   "outputs": [
    {
     "data": {
      "text/plain": [
       "0    182543\n",
       "1     50611\n",
       "Name: loan_default, dtype: int64"
      ]
     },
     "execution_count": 7,
     "metadata": {},
     "output_type": "execute_result"
    }
   ],
   "source": [
    "Loan_Data = Loan_Data1.drop(columns=['loan_default','branch_id', 'manufacturer_id', 'State_ID'])\n",
    "#Loan_Data = Loan_Data1.drop(columns=['loan_default'])\n",
    "target = Loan_Data1['loan_default']\n",
    "target.value_counts()"
   ]
  },
  {
   "cell_type": "markdown",
   "metadata": {},
   "source": [
    "### Encoding Categorical Descriptive Features\n",
    "Since all of the descriptive features appear to be nominal Except from `PERFORM_CNS.SCORE.DESCRIPTION`, we perform one-hot-encoding. We only have one categorical variable which we will convert by appling the `get_dummies()` function for the regular one-hot encoding."
   ]
  },
  {
   "cell_type": "code",
   "execution_count": 8,
   "metadata": {},
   "outputs": [
    {
     "data": {
      "text/plain": [
       "['Employment.Type']"
      ]
     },
     "execution_count": 8,
     "metadata": {},
     "output_type": "execute_result"
    }
   ],
   "source": [
    "categorical_cols = Loan_Data.columns[Loan_Data.dtypes==object].tolist()\n",
    "\n",
    "categorical_cols"
   ]
  },
  {
   "cell_type": "markdown",
   "metadata": {},
   "source": [
    "performing one-hot encoding on `Employment.Type`. `PERFORM_CNS.SCORE.DESCRIPTION` is already integer but we will not apply LabelEncoder on it."
   ]
  },
  {
   "cell_type": "code",
   "execution_count": 9,
   "metadata": {},
   "outputs": [
    {
     "data": {
      "text/plain": [
       "Index(['disbursed_amount', 'asset_cost', 'ltv', 'Employment.Type',\n",
       "       'MobileNo_Avl_Flag', 'Aadhar_flag', 'PAN_flag', 'VoterID_flag',\n",
       "       'Driving_flag', 'Passport_flag', 'PERFORM_CNS.SCORE',\n",
       "       'PERFORM_CNS.SCORE.DESCRIPTION', 'PRI.NO.OF.ACCTS', 'PRI.ACTIVE.ACCTS',\n",
       "       'PRI.OVERDUE.ACCTS', 'PRI.CURRENT.BALANCE', 'PRI.SANCTIONED.AMOUNT',\n",
       "       'PRI.DISBURSED.AMOUNT', 'SEC.NO.OF.ACCTS', 'SEC.ACTIVE.ACCTS',\n",
       "       'SEC.OVERDUE.ACCTS', 'SEC.CURRENT.BALANCE', 'SEC.SANCTIONED.AMOUNT',\n",
       "       'SEC.DISBURSED.AMOUNT', 'PRIMARY.INSTAL.AMT', 'SEC.INSTAL.AMT',\n",
       "       'NEW.ACCTS.IN.LAST.SIX.MONTHS', 'DELINQUENT.ACCTS.IN.LAST.SIX.MONTHS',\n",
       "       'NO.OF_INQUIRIES', 'Age', 'AvgAcctAge', 'CredAcctAge'],\n",
       "      dtype='object')"
      ]
     },
     "execution_count": 9,
     "metadata": {},
     "output_type": "execute_result"
    }
   ],
   "source": [
    "Loan_Data.columns"
   ]
  },
  {
   "cell_type": "code",
   "execution_count": 10,
   "metadata": {},
   "outputs": [],
   "source": [
    "# use one-hot-encoding for categorical features with >2 levels\n",
    "#Loan_Data = pd.get_dummies(Loan_Data)\n",
    "\n",
    "from sklearn.preprocessing import LabelEncoder\n",
    "\n",
    "#Loan_Data = Loan_Data.apply(LabelEncoder().fit_transform())\n",
    "#Loan_Data.iloc[:,11] = LabelEncoder().fit_transform(Loan_Data.iloc[:,11])\n",
    "Loan_Data = pd.get_dummies(Loan_Data)"
   ]
  },
  {
   "cell_type": "markdown",
   "metadata": {},
   "source": [
    "After encoding, the feature set has the following columns."
   ]
  },
  {
   "cell_type": "code",
   "execution_count": 11,
   "metadata": {},
   "outputs": [
    {
     "data": {
      "text/plain": [
       "disbursed_amount                         int64\n",
       "asset_cost                               int64\n",
       "ltv                                    float64\n",
       "MobileNo_Avl_Flag                        int64\n",
       "Aadhar_flag                              int64\n",
       "PAN_flag                                 int64\n",
       "VoterID_flag                             int64\n",
       "Driving_flag                             int64\n",
       "Passport_flag                            int64\n",
       "PERFORM_CNS.SCORE                        int64\n",
       "PERFORM_CNS.SCORE.DESCRIPTION            int64\n",
       "PRI.NO.OF.ACCTS                          int64\n",
       "PRI.ACTIVE.ACCTS                         int64\n",
       "PRI.OVERDUE.ACCTS                        int64\n",
       "PRI.CURRENT.BALANCE                      int64\n",
       "PRI.SANCTIONED.AMOUNT                    int64\n",
       "PRI.DISBURSED.AMOUNT                     int64\n",
       "SEC.NO.OF.ACCTS                          int64\n",
       "SEC.ACTIVE.ACCTS                         int64\n",
       "SEC.OVERDUE.ACCTS                        int64\n",
       "SEC.CURRENT.BALANCE                      int64\n",
       "SEC.SANCTIONED.AMOUNT                    int64\n",
       "SEC.DISBURSED.AMOUNT                     int64\n",
       "PRIMARY.INSTAL.AMT                       int64\n",
       "SEC.INSTAL.AMT                           int64\n",
       "NEW.ACCTS.IN.LAST.SIX.MONTHS             int64\n",
       "DELINQUENT.ACCTS.IN.LAST.SIX.MONTHS      int64\n",
       "NO.OF_INQUIRIES                          int64\n",
       "Age                                      int64\n",
       "AvgAcctAge                               int64\n",
       "CredAcctAge                              int64\n",
       "Employment.Type_Salaried                 uint8\n",
       "Employment.Type_Self employed            uint8\n",
       "Employment.Type_Unemployed               uint8\n",
       "dtype: object"
      ]
     },
     "execution_count": 11,
     "metadata": {},
     "output_type": "execute_result"
    }
   ],
   "source": [
    "Loan_Data.dtypes"
   ]
  },
  {
   "cell_type": "code",
   "execution_count": 12,
   "metadata": {},
   "outputs": [
    {
     "data": {
      "text/plain": [
       "Index(['disbursed_amount', 'asset_cost', 'ltv', 'MobileNo_Avl_Flag',\n",
       "       'Aadhar_flag', 'PAN_flag', 'VoterID_flag', 'Driving_flag',\n",
       "       'Passport_flag', 'PERFORM_CNS.SCORE', 'PERFORM_CNS.SCORE.DESCRIPTION',\n",
       "       'PRI.NO.OF.ACCTS', 'PRI.ACTIVE.ACCTS', 'PRI.OVERDUE.ACCTS',\n",
       "       'PRI.CURRENT.BALANCE', 'PRI.SANCTIONED.AMOUNT', 'PRI.DISBURSED.AMOUNT',\n",
       "       'SEC.NO.OF.ACCTS', 'SEC.ACTIVE.ACCTS', 'SEC.OVERDUE.ACCTS',\n",
       "       'SEC.CURRENT.BALANCE', 'SEC.SANCTIONED.AMOUNT', 'SEC.DISBURSED.AMOUNT',\n",
       "       'PRIMARY.INSTAL.AMT', 'SEC.INSTAL.AMT', 'NEW.ACCTS.IN.LAST.SIX.MONTHS',\n",
       "       'DELINQUENT.ACCTS.IN.LAST.SIX.MONTHS', 'NO.OF_INQUIRIES', 'Age',\n",
       "       'AvgAcctAge', 'CredAcctAge', 'Employment.Type_Salaried',\n",
       "       'Employment.Type_Self employed', 'Employment.Type_Unemployed'],\n",
       "      dtype='object')"
      ]
     },
     "execution_count": 12,
     "metadata": {},
     "output_type": "execute_result"
    }
   ],
   "source": [
    "Loan_Data.columns"
   ]
  },
  {
   "cell_type": "code",
   "execution_count": 13,
   "metadata": {
    "scrolled": false
   },
   "outputs": [
    {
     "data": {
      "text/html": [
       "<div>\n",
       "<style scoped>\n",
       "    .dataframe tbody tr th:only-of-type {\n",
       "        vertical-align: middle;\n",
       "    }\n",
       "\n",
       "    .dataframe tbody tr th {\n",
       "        vertical-align: top;\n",
       "    }\n",
       "\n",
       "    .dataframe thead th {\n",
       "        text-align: right;\n",
       "    }\n",
       "</style>\n",
       "<table border=\"1\" class=\"dataframe\">\n",
       "  <thead>\n",
       "    <tr style=\"text-align: right;\">\n",
       "      <th></th>\n",
       "      <th>disbursed_amount</th>\n",
       "      <th>asset_cost</th>\n",
       "      <th>ltv</th>\n",
       "      <th>MobileNo_Avl_Flag</th>\n",
       "      <th>Aadhar_flag</th>\n",
       "      <th>PAN_flag</th>\n",
       "      <th>VoterID_flag</th>\n",
       "      <th>Driving_flag</th>\n",
       "      <th>Passport_flag</th>\n",
       "      <th>PERFORM_CNS.SCORE</th>\n",
       "      <th>...</th>\n",
       "      <th>SEC.INSTAL.AMT</th>\n",
       "      <th>NEW.ACCTS.IN.LAST.SIX.MONTHS</th>\n",
       "      <th>DELINQUENT.ACCTS.IN.LAST.SIX.MONTHS</th>\n",
       "      <th>NO.OF_INQUIRIES</th>\n",
       "      <th>Age</th>\n",
       "      <th>AvgAcctAge</th>\n",
       "      <th>CredAcctAge</th>\n",
       "      <th>Employment.Type_Salaried</th>\n",
       "      <th>Employment.Type_Self employed</th>\n",
       "      <th>Employment.Type_Unemployed</th>\n",
       "    </tr>\n",
       "  </thead>\n",
       "  <tbody>\n",
       "    <tr>\n",
       "      <th>93908</th>\n",
       "      <td>61947</td>\n",
       "      <td>76652</td>\n",
       "      <td>83.49</td>\n",
       "      <td>1</td>\n",
       "      <td>1</td>\n",
       "      <td>1</td>\n",
       "      <td>0</td>\n",
       "      <td>0</td>\n",
       "      <td>0</td>\n",
       "      <td>0</td>\n",
       "      <td>...</td>\n",
       "      <td>0</td>\n",
       "      <td>0</td>\n",
       "      <td>0</td>\n",
       "      <td>0</td>\n",
       "      <td>28</td>\n",
       "      <td>0</td>\n",
       "      <td>0</td>\n",
       "      <td>0</td>\n",
       "      <td>1</td>\n",
       "      <td>0</td>\n",
       "    </tr>\n",
       "    <tr>\n",
       "      <th>48966</th>\n",
       "      <td>32734</td>\n",
       "      <td>70590</td>\n",
       "      <td>48.17</td>\n",
       "      <td>1</td>\n",
       "      <td>1</td>\n",
       "      <td>0</td>\n",
       "      <td>0</td>\n",
       "      <td>0</td>\n",
       "      <td>0</td>\n",
       "      <td>699</td>\n",
       "      <td>...</td>\n",
       "      <td>0</td>\n",
       "      <td>0</td>\n",
       "      <td>0</td>\n",
       "      <td>0</td>\n",
       "      <td>34</td>\n",
       "      <td>8</td>\n",
       "      <td>20</td>\n",
       "      <td>1</td>\n",
       "      <td>0</td>\n",
       "      <td>0</td>\n",
       "    </tr>\n",
       "    <tr>\n",
       "      <th>86749</th>\n",
       "      <td>65669</td>\n",
       "      <td>71946</td>\n",
       "      <td>93.13</td>\n",
       "      <td>1</td>\n",
       "      <td>1</td>\n",
       "      <td>0</td>\n",
       "      <td>0</td>\n",
       "      <td>0</td>\n",
       "      <td>0</td>\n",
       "      <td>323</td>\n",
       "      <td>...</td>\n",
       "      <td>0</td>\n",
       "      <td>1</td>\n",
       "      <td>0</td>\n",
       "      <td>2</td>\n",
       "      <td>34</td>\n",
       "      <td>15</td>\n",
       "      <td>36</td>\n",
       "      <td>1</td>\n",
       "      <td>0</td>\n",
       "      <td>0</td>\n",
       "    </tr>\n",
       "    <tr>\n",
       "      <th>227795</th>\n",
       "      <td>76882</td>\n",
       "      <td>122131</td>\n",
       "      <td>64.79</td>\n",
       "      <td>1</td>\n",
       "      <td>0</td>\n",
       "      <td>1</td>\n",
       "      <td>1</td>\n",
       "      <td>0</td>\n",
       "      <td>0</td>\n",
       "      <td>0</td>\n",
       "      <td>...</td>\n",
       "      <td>0</td>\n",
       "      <td>0</td>\n",
       "      <td>0</td>\n",
       "      <td>0</td>\n",
       "      <td>40</td>\n",
       "      <td>0</td>\n",
       "      <td>0</td>\n",
       "      <td>0</td>\n",
       "      <td>1</td>\n",
       "      <td>0</td>\n",
       "    </tr>\n",
       "    <tr>\n",
       "      <th>65517</th>\n",
       "      <td>49349</td>\n",
       "      <td>69662</td>\n",
       "      <td>71.78</td>\n",
       "      <td>1</td>\n",
       "      <td>1</td>\n",
       "      <td>0</td>\n",
       "      <td>0</td>\n",
       "      <td>0</td>\n",
       "      <td>0</td>\n",
       "      <td>763</td>\n",
       "      <td>...</td>\n",
       "      <td>0</td>\n",
       "      <td>0</td>\n",
       "      <td>0</td>\n",
       "      <td>0</td>\n",
       "      <td>34</td>\n",
       "      <td>25</td>\n",
       "      <td>25</td>\n",
       "      <td>0</td>\n",
       "      <td>1</td>\n",
       "      <td>0</td>\n",
       "    </tr>\n",
       "  </tbody>\n",
       "</table>\n",
       "<p>5 rows × 34 columns</p>\n",
       "</div>"
      ],
      "text/plain": [
       "        disbursed_amount  asset_cost    ltv  MobileNo_Avl_Flag  Aadhar_flag  \\\n",
       "93908              61947       76652  83.49                  1            1   \n",
       "48966              32734       70590  48.17                  1            1   \n",
       "86749              65669       71946  93.13                  1            1   \n",
       "227795             76882      122131  64.79                  1            0   \n",
       "65517              49349       69662  71.78                  1            1   \n",
       "\n",
       "        PAN_flag  VoterID_flag  Driving_flag  Passport_flag  \\\n",
       "93908          1             0             0              0   \n",
       "48966          0             0             0              0   \n",
       "86749          0             0             0              0   \n",
       "227795         1             1             0              0   \n",
       "65517          0             0             0              0   \n",
       "\n",
       "        PERFORM_CNS.SCORE  ...  SEC.INSTAL.AMT  NEW.ACCTS.IN.LAST.SIX.MONTHS  \\\n",
       "93908                   0  ...               0                             0   \n",
       "48966                 699  ...               0                             0   \n",
       "86749                 323  ...               0                             1   \n",
       "227795                  0  ...               0                             0   \n",
       "65517                 763  ...               0                             0   \n",
       "\n",
       "        DELINQUENT.ACCTS.IN.LAST.SIX.MONTHS  NO.OF_INQUIRIES  Age  AvgAcctAge  \\\n",
       "93908                                     0                0   28           0   \n",
       "48966                                     0                0   34           8   \n",
       "86749                                     0                2   34          15   \n",
       "227795                                    0                0   40           0   \n",
       "65517                                     0                0   34          25   \n",
       "\n",
       "        CredAcctAge  Employment.Type_Salaried  Employment.Type_Self employed  \\\n",
       "93908             0                         0                              1   \n",
       "48966            20                         1                              0   \n",
       "86749            36                         1                              0   \n",
       "227795            0                         0                              1   \n",
       "65517            25                         0                              1   \n",
       "\n",
       "        Employment.Type_Unemployed  \n",
       "93908                            0  \n",
       "48966                            0  \n",
       "86749                            0  \n",
       "227795                           0  \n",
       "65517                            0  \n",
       "\n",
       "[5 rows x 34 columns]"
      ]
     },
     "execution_count": 13,
     "metadata": {},
     "output_type": "execute_result"
    }
   ],
   "source": [
    "Loan_Data.sample(5, random_state=999)"
   ]
  },
  {
   "cell_type": "markdown",
   "metadata": {},
   "source": [
    "## Scaling of Features\n",
    "\n",
    "After encoding the features, we will perform a min-max scaling of all the descriptive features. Before that, we will make a copy of the Data set to keep track of column names."
   ]
  },
  {
   "cell_type": "code",
   "execution_count": 14,
   "metadata": {
    "scrolled": false
   },
   "outputs": [
    {
     "name": "stderr",
     "output_type": "stream",
     "text": [
      "C:\\Users\\viran\\Anaconda2\\envs\\Python 3.6\\lib\\site-packages\\sklearn\\preprocessing\\data.py:334: DataConversionWarning: Data with input dtype uint8, int64, float64 were all converted to float64 by MinMaxScaler.\n",
      "  return self.partial_fit(X, y)\n",
      "C:\\Users\\viran\\Anaconda2\\envs\\Python 3.6\\lib\\site-packages\\sklearn\\preprocessing\\data.py:334: DataConversionWarning: Data with input dtype uint8, int64, float64 were all converted to float64 by MinMaxScaler.\n",
      "  return self.partial_fit(X, y)\n"
     ]
    }
   ],
   "source": [
    "from sklearn import preprocessing\n",
    "\n",
    "Loan_Data_df = Loan_Data.copy()\n",
    "\n",
    "Data_scaler = preprocessing.MinMaxScaler()\n",
    "Data_scaler.fit(Loan_Data)\n",
    "Loan_Data = Data_scaler.fit_transform(Loan_Data)"
   ]
  },
  {
   "cell_type": "markdown",
   "metadata": {},
   "source": [
    "Below is a 5 sample records from dataset after performing the scaling operation. The scaler gives a `NumPy` array as an output, so we need to add column names from our copied dataset to display it into a table. We can see from below that binary features are still kept as binary after the min-max scaling."
   ]
  },
  {
   "cell_type": "code",
   "execution_count": 15,
   "metadata": {},
   "outputs": [
    {
     "data": {
      "text/html": [
       "<div>\n",
       "<style scoped>\n",
       "    .dataframe tbody tr th:only-of-type {\n",
       "        vertical-align: middle;\n",
       "    }\n",
       "\n",
       "    .dataframe tbody tr th {\n",
       "        vertical-align: top;\n",
       "    }\n",
       "\n",
       "    .dataframe thead th {\n",
       "        text-align: right;\n",
       "    }\n",
       "</style>\n",
       "<table border=\"1\" class=\"dataframe\">\n",
       "  <thead>\n",
       "    <tr style=\"text-align: right;\">\n",
       "      <th></th>\n",
       "      <th>disbursed_amount</th>\n",
       "      <th>asset_cost</th>\n",
       "      <th>ltv</th>\n",
       "      <th>MobileNo_Avl_Flag</th>\n",
       "      <th>Aadhar_flag</th>\n",
       "      <th>PAN_flag</th>\n",
       "      <th>VoterID_flag</th>\n",
       "      <th>Driving_flag</th>\n",
       "      <th>Passport_flag</th>\n",
       "      <th>PERFORM_CNS.SCORE</th>\n",
       "      <th>...</th>\n",
       "      <th>SEC.INSTAL.AMT</th>\n",
       "      <th>NEW.ACCTS.IN.LAST.SIX.MONTHS</th>\n",
       "      <th>DELINQUENT.ACCTS.IN.LAST.SIX.MONTHS</th>\n",
       "      <th>NO.OF_INQUIRIES</th>\n",
       "      <th>Age</th>\n",
       "      <th>AvgAcctAge</th>\n",
       "      <th>CredAcctAge</th>\n",
       "      <th>Employment.Type_Salaried</th>\n",
       "      <th>Employment.Type_Self employed</th>\n",
       "      <th>Employment.Type_Unemployed</th>\n",
       "    </tr>\n",
       "  </thead>\n",
       "  <tbody>\n",
       "    <tr>\n",
       "      <th>93908</th>\n",
       "      <td>0.049759</td>\n",
       "      <td>0.024907</td>\n",
       "      <td>0.864540</td>\n",
       "      <td>0.0</td>\n",
       "      <td>1.0</td>\n",
       "      <td>1.0</td>\n",
       "      <td>0.0</td>\n",
       "      <td>0.0</td>\n",
       "      <td>0.0</td>\n",
       "      <td>0.000000</td>\n",
       "      <td>...</td>\n",
       "      <td>0.0</td>\n",
       "      <td>0.000000</td>\n",
       "      <td>0.0</td>\n",
       "      <td>0.000000</td>\n",
       "      <td>0.156863</td>\n",
       "      <td>0.000000</td>\n",
       "      <td>0.000000</td>\n",
       "      <td>0.0</td>\n",
       "      <td>1.0</td>\n",
       "      <td>0.0</td>\n",
       "    </tr>\n",
       "    <tr>\n",
       "      <th>48966</th>\n",
       "      <td>0.019866</td>\n",
       "      <td>0.021099</td>\n",
       "      <td>0.448864</td>\n",
       "      <td>0.0</td>\n",
       "      <td>1.0</td>\n",
       "      <td>0.0</td>\n",
       "      <td>0.0</td>\n",
       "      <td>0.0</td>\n",
       "      <td>0.0</td>\n",
       "      <td>0.785393</td>\n",
       "      <td>...</td>\n",
       "      <td>0.0</td>\n",
       "      <td>0.000000</td>\n",
       "      <td>0.0</td>\n",
       "      <td>0.000000</td>\n",
       "      <td>0.274510</td>\n",
       "      <td>0.021680</td>\n",
       "      <td>0.042735</td>\n",
       "      <td>1.0</td>\n",
       "      <td>0.0</td>\n",
       "      <td>0.0</td>\n",
       "    </tr>\n",
       "    <tr>\n",
       "      <th>86749</th>\n",
       "      <td>0.053568</td>\n",
       "      <td>0.021951</td>\n",
       "      <td>0.977992</td>\n",
       "      <td>0.0</td>\n",
       "      <td>1.0</td>\n",
       "      <td>0.0</td>\n",
       "      <td>0.0</td>\n",
       "      <td>0.0</td>\n",
       "      <td>0.0</td>\n",
       "      <td>0.362921</td>\n",
       "      <td>...</td>\n",
       "      <td>0.0</td>\n",
       "      <td>0.028571</td>\n",
       "      <td>0.0</td>\n",
       "      <td>0.055556</td>\n",
       "      <td>0.274510</td>\n",
       "      <td>0.040650</td>\n",
       "      <td>0.076923</td>\n",
       "      <td>1.0</td>\n",
       "      <td>0.0</td>\n",
       "      <td>0.0</td>\n",
       "    </tr>\n",
       "    <tr>\n",
       "      <th>227795</th>\n",
       "      <td>0.065042</td>\n",
       "      <td>0.053475</td>\n",
       "      <td>0.644463</td>\n",
       "      <td>0.0</td>\n",
       "      <td>0.0</td>\n",
       "      <td>1.0</td>\n",
       "      <td>1.0</td>\n",
       "      <td>0.0</td>\n",
       "      <td>0.0</td>\n",
       "      <td>0.000000</td>\n",
       "      <td>...</td>\n",
       "      <td>0.0</td>\n",
       "      <td>0.000000</td>\n",
       "      <td>0.0</td>\n",
       "      <td>0.000000</td>\n",
       "      <td>0.392157</td>\n",
       "      <td>0.000000</td>\n",
       "      <td>0.000000</td>\n",
       "      <td>0.0</td>\n",
       "      <td>1.0</td>\n",
       "      <td>0.0</td>\n",
       "    </tr>\n",
       "    <tr>\n",
       "      <th>65517</th>\n",
       "      <td>0.036868</td>\n",
       "      <td>0.020516</td>\n",
       "      <td>0.726727</td>\n",
       "      <td>0.0</td>\n",
       "      <td>1.0</td>\n",
       "      <td>0.0</td>\n",
       "      <td>0.0</td>\n",
       "      <td>0.0</td>\n",
       "      <td>0.0</td>\n",
       "      <td>0.857303</td>\n",
       "      <td>...</td>\n",
       "      <td>0.0</td>\n",
       "      <td>0.000000</td>\n",
       "      <td>0.0</td>\n",
       "      <td>0.000000</td>\n",
       "      <td>0.274510</td>\n",
       "      <td>0.067751</td>\n",
       "      <td>0.053419</td>\n",
       "      <td>0.0</td>\n",
       "      <td>1.0</td>\n",
       "      <td>0.0</td>\n",
       "    </tr>\n",
       "  </tbody>\n",
       "</table>\n",
       "<p>5 rows × 34 columns</p>\n",
       "</div>"
      ],
      "text/plain": [
       "        disbursed_amount  asset_cost       ltv  MobileNo_Avl_Flag  \\\n",
       "93908           0.049759    0.024907  0.864540                0.0   \n",
       "48966           0.019866    0.021099  0.448864                0.0   \n",
       "86749           0.053568    0.021951  0.977992                0.0   \n",
       "227795          0.065042    0.053475  0.644463                0.0   \n",
       "65517           0.036868    0.020516  0.726727                0.0   \n",
       "\n",
       "        Aadhar_flag  PAN_flag  VoterID_flag  Driving_flag  Passport_flag  \\\n",
       "93908           1.0       1.0           0.0           0.0            0.0   \n",
       "48966           1.0       0.0           0.0           0.0            0.0   \n",
       "86749           1.0       0.0           0.0           0.0            0.0   \n",
       "227795          0.0       1.0           1.0           0.0            0.0   \n",
       "65517           1.0       0.0           0.0           0.0            0.0   \n",
       "\n",
       "        PERFORM_CNS.SCORE  ...  SEC.INSTAL.AMT  NEW.ACCTS.IN.LAST.SIX.MONTHS  \\\n",
       "93908            0.000000  ...             0.0                      0.000000   \n",
       "48966            0.785393  ...             0.0                      0.000000   \n",
       "86749            0.362921  ...             0.0                      0.028571   \n",
       "227795           0.000000  ...             0.0                      0.000000   \n",
       "65517            0.857303  ...             0.0                      0.000000   \n",
       "\n",
       "        DELINQUENT.ACCTS.IN.LAST.SIX.MONTHS  NO.OF_INQUIRIES       Age  \\\n",
       "93908                                   0.0         0.000000  0.156863   \n",
       "48966                                   0.0         0.000000  0.274510   \n",
       "86749                                   0.0         0.055556  0.274510   \n",
       "227795                                  0.0         0.000000  0.392157   \n",
       "65517                                   0.0         0.000000  0.274510   \n",
       "\n",
       "        AvgAcctAge  CredAcctAge  Employment.Type_Salaried  \\\n",
       "93908     0.000000     0.000000                       0.0   \n",
       "48966     0.021680     0.042735                       1.0   \n",
       "86749     0.040650     0.076923                       1.0   \n",
       "227795    0.000000     0.000000                       0.0   \n",
       "65517     0.067751     0.053419                       0.0   \n",
       "\n",
       "        Employment.Type_Self employed  Employment.Type_Unemployed  \n",
       "93908                             1.0                         0.0  \n",
       "48966                             0.0                         0.0  \n",
       "86749                             0.0                         0.0  \n",
       "227795                            1.0                         0.0  \n",
       "65517                             1.0                         0.0  \n",
       "\n",
       "[5 rows x 34 columns]"
      ]
     },
     "execution_count": 15,
     "metadata": {},
     "output_type": "execute_result"
    }
   ],
   "source": [
    "pd.DataFrame(Loan_Data, columns=Loan_Data_df.columns).sample(5, random_state=999)"
   ]
  },
  {
   "cell_type": "markdown",
   "metadata": {},
   "source": [
    "## Feature Selection & Ranking\n",
    "\n",
    "We will now explore the most important 15 features as selected by Random Forest Importance (RFI) in our full dataset. This is just for a quick visualisation of the most relevant 15 features to gain some insights into completing our goal. During the hyperparameter tuning phase, we will include RFI as part of the pipeline and we will search over 15, 25, and the full set of 34 features to determine which number of features works best with each classifier."
   ]
  },
  {
   "cell_type": "code",
   "execution_count": 16,
   "metadata": {},
   "outputs": [
    {
     "data": {
      "text/plain": [
       "array(['ltv', 'asset_cost', 'disbursed_amount', 'Age', 'CredAcctAge',\n",
       "       'PRI.CURRENT.BALANCE', 'PRIMARY.INSTAL.AMT', 'PERFORM_CNS.SCORE',\n",
       "       'AvgAcctAge', 'PRI.SANCTIONED.AMOUNT', 'PRI.DISBURSED.AMOUNT',\n",
       "       'PRI.NO.OF.ACCTS', 'NO.OF_INQUIRIES', 'PRI.ACTIVE.ACCTS',\n",
       "       'PERFORM_CNS.SCORE.DESCRIPTION'], dtype=object)"
      ]
     },
     "execution_count": 16,
     "metadata": {},
     "output_type": "execute_result"
    }
   ],
   "source": [
    "from sklearn.ensemble import RandomForestClassifier\n",
    "\n",
    "num_features = 15\n",
    "model_rfi = RandomForestClassifier(n_estimators=100)\n",
    "model_rfi.fit(Loan_Data, target)\n",
    "fs_indices_rfi = np.argsort(model_rfi.feature_importances_)[::-1][0:num_features]\n",
    "\n",
    "best_features_rfi = Loan_Data_df.columns[fs_indices_rfi].values\n",
    "best_features_rfi"
   ]
  },
  {
   "cell_type": "code",
   "execution_count": 17,
   "metadata": {},
   "outputs": [
    {
     "data": {
      "text/plain": [
       "array([0.18801712, 0.18615776, 0.17671755, 0.11131461, 0.03333294,\n",
       "       0.03292705, 0.03132119, 0.03106117, 0.03101349, 0.03068884,\n",
       "       0.03068124, 0.01956674, 0.01369745, 0.0113691 , 0.00895797])"
      ]
     },
     "execution_count": 17,
     "metadata": {},
     "output_type": "execute_result"
    }
   ],
   "source": [
    "feature_importances_rfi = model_rfi.feature_importances_[fs_indices_rfi]\n",
    "feature_importances_rfi"
   ]
  },
  {
   "cell_type": "markdown",
   "metadata": {},
   "source": [
    "Let's visualize these importances by defining a function to plot the graph."
   ]
  },
  {
   "cell_type": "code",
   "execution_count": 18,
   "metadata": {},
   "outputs": [],
   "source": [
    "#Plotting feature engineering graph\n",
    "def plot_importance(best_features, scores, method_name, color):\n",
    "    \n",
    "    df = pd.DataFrame({'features': best_features, \n",
    "                       'importances': scores})\n",
    "    \n",
    "    fig, ax = plt.subplots(figsize=(15,5))\n",
    "    g = sns.barplot(ax=ax,x=\"features\", y=\"importances\", data=df)\n",
    "    g.set_xticklabels(ax.get_xticklabels(),rotation=70)"
   ]
  },
  {
   "cell_type": "code",
   "execution_count": 19,
   "metadata": {},
   "outputs": [
    {
     "data": {
      "image/png": "[encoded data removed]",
      "text/plain": [
       "<Figure size 1080x360 with 1 Axes>"
      ]
     },
     "metadata": {
      "needs_background": "light"
     },
     "output_type": "display_data"
    }
   ],
   "source": [
    "plot_importance(best_features_rfi, feature_importances_rfi, 'F-Score', 'red')"
   ]
  },
  {
   "cell_type": "markdown",
   "metadata": {},
   "source": [
    "We observe that the most important feature is `ltv`, followed by `asset_cost`, `disbursed_amount`, and `age` and then others."
   ]
  },
  {
   "cell_type": "markdown",
   "metadata": {},
   "source": [
    "## Data Sampling & Train-Test Splitting\n",
    "\n",
    "The original dataset has more than 230K rows, which is a lot. So, we would like to work with a small sample here with 20K rows. Thus, we will do the following:\n",
    "- Randomly select 20K rows from the full dataset.\n",
    "- Split this sample into train and test partitions with a 70:30 ratio using stratification.\n",
    "\n",
    "Notable thing here is that `values` attribute is used to convert `Pandas` data frames to a `NumPy` array. You have to make absolutely sure that you **NEVER** pass `Pandas` data frames to `Scikit-Learn` functions, because it works with `NumPy` arrays, not `Pandas` data frames."
   ]
  },
  {
   "cell_type": "code",
   "execution_count": 20,
   "metadata": {},
   "outputs": [
    {
     "name": "stdout",
     "output_type": "stream",
     "text": [
      "(20000, 34)\n",
      "(20000, 1)\n"
     ]
    }
   ],
   "source": [
    "#Loan_Data.shape[0]\n",
    "n_samples = 20000\n",
    "\n",
    "Loan_Data_sample = pd.DataFrame(Loan_Data, columns=Loan_Data_df.columns).sample(n=n_samples, random_state=999).values\n",
    "target_sample = pd.DataFrame(target, columns=['loan_default']).sample(n=n_samples, random_state=999).values\n",
    "\n",
    "#rus = RandomUnderSampler(random_state=0)\n",
    "#Loan_Data_sample, target_sample = rus.fit_sample(Loan_Data_sample, target_sample)\n",
    "\n",
    "print(Loan_Data_sample.shape)\n",
    "print(target_sample.shape)"
   ]
  },
  {
   "cell_type": "code",
   "execution_count": 21,
   "metadata": {},
   "outputs": [
    {
     "name": "stdout",
     "output_type": "stream",
     "text": [
      "Shape of Data_sample_train :\n",
      "(14000, 34)\n",
      "\n",
      "Shape of Data_sample_test :\n",
      "(6000, 34)\n",
      "\n",
      "Value Counts of target_sample_train :\n",
      "(array([0, 1], dtype=int64), array([10947,  3053], dtype=int64))\n",
      "\n"
     ]
    }
   ],
   "source": [
    "from sklearn.model_selection import train_test_split\n",
    "from sklearn.utils import resample\n",
    "from imblearn.under_sampling import TomekLinks\n",
    "from imblearn.under_sampling import RandomUnderSampler\n",
    "from imblearn.combine import SMOTETomek,SMOTEENN\n",
    "from imblearn.over_sampling import SMOTE\n",
    "\n",
    "Data_sample_train, Data_sample_test, \\\n",
    "target_sample_train, target_sample_test = train_test_split(Loan_Data_sample, target_sample, \n",
    "                                                    test_size = 0.3, stratify = target_sample, random_state=786)\n",
    "\n",
    "print('Shape of Data_sample_train :')\n",
    "print(Data_sample_train.shape)\n",
    "print('')\n",
    "print('Shape of Data_sample_test :')\n",
    "print(Data_sample_test.shape)\n",
    "print('')\n",
    "print('Value Counts of target_sample_train :')\n",
    "print(np.unique(target_sample_train, return_counts=True))\n",
    "print('')\n",
    "\n",
    "rus = RandomUnderSampler(random_state=0)\n",
    "Data_sample_train, target_sample_train = rus.fit_sample(Data_sample_train, target_sample_train)\n",
    "\n",
    "# Handing Class imbalance\n",
    "#smt = SMOTETomek(ratio='auto')\n",
    "#Data_sample_train, target_sample_train = smt.fit_sample(Data_sample_train, target_sample_train)"
   ]
  },
  {
   "cell_type": "code",
   "execution_count": 22,
   "metadata": {},
   "outputs": [
    {
     "name": "stdout",
     "output_type": "stream",
     "text": [
      "Shape of Data_sample_train After SMOTE:\n",
      "(6106, 34)\n"
     ]
    }
   ],
   "source": [
    "print('Shape of Data_sample_train After SMOTE:')\n",
    "print(Data_sample_train.shape)"
   ]
  },
  {
   "cell_type": "code",
   "execution_count": 23,
   "metadata": {},
   "outputs": [
    {
     "name": "stdout",
     "output_type": "stream",
     "text": [
      "Value Counts of target_sample_train :\n"
     ]
    },
    {
     "data": {
      "text/plain": [
       "(array([0, 1], dtype=int64), array([3053, 3053], dtype=int64))"
      ]
     },
     "execution_count": 23,
     "metadata": {},
     "output_type": "execute_result"
    }
   ],
   "source": [
    "print('Value Counts of target_sample_train :')\n",
    "np.unique(target_sample_train, return_counts=True)"
   ]
  },
  {
   "cell_type": "code",
   "execution_count": 24,
   "metadata": {},
   "outputs": [
    {
     "name": "stdout",
     "output_type": "stream",
     "text": [
      "Value Counts of target_sample_test :\n"
     ]
    },
    {
     "data": {
      "text/plain": [
       "(array([0, 1], dtype=int64), array([4692, 1308], dtype=int64))"
      ]
     },
     "execution_count": 24,
     "metadata": {},
     "output_type": "execute_result"
    }
   ],
   "source": [
    "print('Value Counts of target_sample_test :')\n",
    "np.unique(target_sample_test, return_counts=True)"
   ]
  },
  {
   "cell_type": "markdown",
   "metadata": {},
   "source": [
    "## Model Evaluation Strategy\n",
    "\n",
    "So, we will train and tune our models on 6K rows of training data and we will test them on 6K rows of test data. \n",
    "\n",
    "For each model, we will use 5-fold stratified cross-validation evaluation technique (with no repetitions for shorter run times) for hyperparameter tuning."
   ]
  },
  {
   "cell_type": "code",
   "execution_count": 25,
   "metadata": {},
   "outputs": [],
   "source": [
    "from sklearn.model_selection import RepeatedStratifiedKFold,StratifiedKFold, GridSearchCV\n",
    "from sklearn import metrics\n",
    "from sklearn.metrics import precision_recall_curve, classification_report, confusion_matrix \n",
    "from sklearn.metrics import accuracy_score, make_scorer, recall_score, precision_score,roc_auc_score\n",
    "\n",
    "#cv_method = RepeatedStratifiedKFold(n_splits=5, n_repeats=2, random_state=999)\n",
    "cv_method = StratifiedKFold(n_splits=5, random_state=999)"
   ]
  },
  {
   "cell_type": "markdown",
   "metadata": {},
   "source": [
    "# Hyperparameter Tuning <a class=\"anchor\" id=\"4\"></a> \n",
    "\n",
    "## K-Nearest Neighbors (KNN)"
   ]
  },
  {
   "cell_type": "markdown",
   "metadata": {},
   "source": [
    "Using `Pipeline`, we combine feature selection and grid search for KNN hyperparameter tuning via cross-validation. We will use the same `Pipeline` methodology for DT and NB.\n",
    "\n",
    "The KNN hyperparameters are as follows:\n",
    "\n",
    "* number of neighbours (`n_neighbors`) and\n",
    "* the distance metric `p`\n",
    "* the weight metric `weights`\n",
    "\n",
    "For feature selection, we will use the Random Forest Importance (RFI) method with 100 estimators. To add RFI feature selection as part of the pipeline, we have defined the custom `RFIFeatureSelector()` class below to pass in RFI as a \"step\" to the pipeline."
   ]
  },
  {
   "cell_type": "code",
   "execution_count": 26,
   "metadata": {},
   "outputs": [],
   "source": [
    "from sklearn.base import BaseEstimator, TransformerMixin\n",
    "\n",
    "# custom function for RFI feature selection inside a pipeline\n",
    "# here we used n_estimators=100\n",
    "class RFIFeatureSelector(BaseEstimator, TransformerMixin):\n",
    "    \n",
    "    # class constructor \n",
    "    # make sure class attributes end with a \"_\"\n",
    "    # per scikit-learn convention to avoid errors\n",
    "    def __init__(self, n_features_=10):\n",
    "        self.n_features_ = n_features_\n",
    "        self.fs_indices_ = None\n",
    "\n",
    "    # override the fit function\n",
    "    def fit(self, X, y):\n",
    "        from sklearn.ensemble import RandomForestClassifier\n",
    "        from numpy import argsort\n",
    "        model_rfi = RandomForestClassifier(n_estimators=100)\n",
    "        model_rfi.fit(X, y)\n",
    "        self.fs_indices_ = argsort(model_rfi.feature_importances_)[::-1][0:self.n_features_] \n",
    "        return self \n",
    "    \n",
    "    # override the transform function\n",
    "    def transform(self, X, y=None):\n",
    "        return X[:, self.fs_indices_]"
   ]
  },
  {
   "cell_type": "markdown",
   "metadata": {},
   "source": [
    "Instead of single scoring methos, We have used `precision_score`, `recall_score`, `accuracy_score` and `roc_auc` as parameters to GridSearch's Scoring attribute."
   ]
  },
  {
   "cell_type": "code",
   "execution_count": 27,
   "metadata": {},
   "outputs": [],
   "source": [
    "from sklearn.pipeline import Pipeline\n",
    "from sklearn.neighbors import KNeighborsClassifier\n",
    "\n",
    "pipe_KNN = Pipeline(steps=[('rfi_fs', RFIFeatureSelector()), \n",
    "                           ('knn', KNeighborsClassifier())])\n",
    "\n",
    "params_pipe_KNN = {'rfi_fs__n_features_': [15, 25, Data_sample_train.shape[1]],\n",
    "                   'knn__n_neighbors': [2, 4, 8, 12, 20],\n",
    "                   'knn__p': [1, 2]}\n",
    "\n",
    "scorers = {\n",
    "    'precision_score': make_scorer(precision_score),\n",
    "    'recall_score': make_scorer(recall_score),\n",
    "    'accuracy_score': make_scorer(accuracy_score),\n",
    "    'roc_auc': make_scorer(roc_auc_score)\n",
    "}\n",
    "\n",
    "gs_pipe_KNN = GridSearchCV(estimator=pipe_KNN, \n",
    "                           param_grid=params_pipe_KNN, \n",
    "                           cv=cv_method,\n",
    "                           refit='roc_auc',\n",
    "                           n_jobs=-2,\n",
    "                           scoring=scorers,\n",
    "                           verbose=1) "
   ]
  },
  {
   "cell_type": "code",
   "execution_count": 28,
   "metadata": {
    "scrolled": false
   },
   "outputs": [
    {
     "name": "stdout",
     "output_type": "stream",
     "text": [
      "Fitting 5 folds for each of 30 candidates, totalling 150 fits\n"
     ]
    },
    {
     "name": "stderr",
     "output_type": "stream",
     "text": [
      "[Parallel(n_jobs=-2)]: Using backend LokyBackend with 11 concurrent workers.\n",
      "[Parallel(n_jobs=-2)]: Done  28 tasks      | elapsed:   14.6s\n",
      "[Parallel(n_jobs=-2)]: Done 150 out of 150 | elapsed:  1.2min finished\n",
      "C:\\Users\\viran\\Anaconda2\\envs\\Python 3.6\\lib\\site-packages\\ipykernel_launcher.py:19: DataConversionWarning: A column-vector y was passed when a 1d array was expected. Please change the shape of y to (n_samples,), for example using ravel().\n",
      "C:\\Users\\viran\\Anaconda2\\envs\\Python 3.6\\lib\\site-packages\\sklearn\\pipeline.py:267: DataConversionWarning: A column-vector y was passed when a 1d array was expected. Please change the shape of y to (n_samples, ), for example using ravel().\n",
      "  self._final_estimator.fit(Xt, y, **fit_params)\n"
     ]
    }
   ],
   "source": [
    "gs_pipe_KNN.fit(Data_sample_train, target_sample_train);"
   ]
  },
  {
   "cell_type": "code",
   "execution_count": 29,
   "metadata": {},
   "outputs": [
    {
     "data": {
      "text/plain": [
       "{'knn__n_neighbors': 20, 'knn__p': 1, 'rfi_fs__n_features_': 15}"
      ]
     },
     "execution_count": 29,
     "metadata": {},
     "output_type": "execute_result"
    }
   ],
   "source": [
    "gs_pipe_KNN.best_params_"
   ]
  },
  {
   "cell_type": "code",
   "execution_count": 30,
   "metadata": {},
   "outputs": [
    {
     "data": {
      "text/plain": [
       "0.5612512283000327"
      ]
     },
     "execution_count": 30,
     "metadata": {},
     "output_type": "execute_result"
    }
   ],
   "source": [
    "gs_pipe_KNN.best_score_"
   ]
  },
  {
   "cell_type": "code",
   "execution_count": 31,
   "metadata": {},
   "outputs": [],
   "source": [
    "pred_KNN = gs_pipe_KNN.predict(Data_sample_test)"
   ]
  },
  {
   "cell_type": "code",
   "execution_count": 32,
   "metadata": {},
   "outputs": [
    {
     "name": "stdout",
     "output_type": "stream",
     "text": [
      "              precision    recall  f1-score   support\n",
      "\n",
      "           0       0.82      0.59      0.69      4692\n",
      "           1       0.27      0.53      0.36      1308\n",
      "\n",
      "   micro avg       0.58      0.58      0.58      6000\n",
      "   macro avg       0.54      0.56      0.52      6000\n",
      "weighted avg       0.70      0.58      0.62      6000\n",
      "\n",
      "[[2776 1916]\n",
      " [ 610  698]]\n"
     ]
    }
   ],
   "source": [
    "from sklearn import metrics\n",
    "from sklearn.metrics import classification_report, confusion_matrix, accuracy_score\n",
    "\n",
    "print(metrics.classification_report(target_sample_test, pred_KNN))\n",
    "\n",
    "print(metrics.confusion_matrix(target_sample_test, pred_KNN))\n"
   ]
  },
  {
   "cell_type": "markdown",
   "metadata": {},
   "source": [
    "We observe that the optimal KNN model has a mean AUC score of 0.56. The best performing KNN selected 15 features with 20 nearest neighbors and $p = 1$."
   ]
  },
  {
   "cell_type": "markdown",
   "metadata": {},
   "source": [
    "Even though these are the best values, we will have a look at the other combinations to see if the difference is rather significant or not. We will run a function defined below to display the grid search outputs as a data frame."
   ]
  },
  {
   "cell_type": "code",
   "execution_count": 33,
   "metadata": {},
   "outputs": [],
   "source": [
    "# custom function to format the search results as a Pandas data frame\n",
    "def get_search_results(gs):\n",
    "\n",
    "    def model_result(scores, params):\n",
    "        scores = {'mean_score': np.mean(scores),\n",
    "             'std_score': np.std(scores),\n",
    "             'min_score': np.min(scores),\n",
    "             'max_score': np.max(scores)}\n",
    "        return pd.Series({**params,**scores})\n",
    "\n",
    "    models = []\n",
    "    scores = []\n",
    "\n",
    "    for i in range(gs.n_splits_):\n",
    "        key = f\"split{i}_test_roc_auc\"\n",
    "        r = gs.cv_results_[key]        \n",
    "        scores.append(r.reshape(-1,1))\n",
    "\n",
    "    all_scores = np.hstack(scores)\n",
    "    for p, s in zip(gs.cv_results_['params'], all_scores):\n",
    "        models.append((model_result(s, p)))\n",
    "\n",
    "    pipe_results = pd.concat(models, axis=1).T.sort_values(['mean_score'], ascending=False)\n",
    "\n",
    "    columns_first = ['mean_score', 'std_score', 'max_score', 'min_score']\n",
    "    columns = columns_first + [c for c in pipe_results.columns if c not in columns_first]\n",
    "\n",
    "    return pipe_results[columns]"
   ]
  },
  {
   "cell_type": "code",
   "execution_count": 34,
   "metadata": {},
   "outputs": [
    {
     "data": {
      "text/html": [
       "<div>\n",
       "<style scoped>\n",
       "    .dataframe tbody tr th:only-of-type {\n",
       "        vertical-align: middle;\n",
       "    }\n",
       "\n",
       "    .dataframe tbody tr th {\n",
       "        vertical-align: top;\n",
       "    }\n",
       "\n",
       "    .dataframe thead th {\n",
       "        text-align: right;\n",
       "    }\n",
       "</style>\n",
       "<table border=\"1\" class=\"dataframe\">\n",
       "  <thead>\n",
       "    <tr style=\"text-align: right;\">\n",
       "      <th></th>\n",
       "      <th>mean_score</th>\n",
       "      <th>std_score</th>\n",
       "      <th>max_score</th>\n",
       "      <th>min_score</th>\n",
       "      <th>knn__n_neighbors</th>\n",
       "      <th>knn__p</th>\n",
       "      <th>rfi_fs__n_features_</th>\n",
       "    </tr>\n",
       "  </thead>\n",
       "  <tbody>\n",
       "    <tr>\n",
       "      <th>24</th>\n",
       "      <td>0.561241</td>\n",
       "      <td>0.013868</td>\n",
       "      <td>0.582651</td>\n",
       "      <td>0.545902</td>\n",
       "      <td>20.0</td>\n",
       "      <td>1.0</td>\n",
       "      <td>15.0</td>\n",
       "    </tr>\n",
       "    <tr>\n",
       "      <th>27</th>\n",
       "      <td>0.561091</td>\n",
       "      <td>0.009770</td>\n",
       "      <td>0.572131</td>\n",
       "      <td>0.545008</td>\n",
       "      <td>20.0</td>\n",
       "      <td>2.0</td>\n",
       "      <td>15.0</td>\n",
       "    </tr>\n",
       "    <tr>\n",
       "      <th>28</th>\n",
       "      <td>0.558779</td>\n",
       "      <td>0.022167</td>\n",
       "      <td>0.590016</td>\n",
       "      <td>0.531148</td>\n",
       "      <td>20.0</td>\n",
       "      <td>2.0</td>\n",
       "      <td>25.0</td>\n",
       "    </tr>\n",
       "    <tr>\n",
       "      <th>29</th>\n",
       "      <td>0.557959</td>\n",
       "      <td>0.023709</td>\n",
       "      <td>0.590835</td>\n",
       "      <td>0.527049</td>\n",
       "      <td>20.0</td>\n",
       "      <td>2.0</td>\n",
       "      <td>34.0</td>\n",
       "    </tr>\n",
       "    <tr>\n",
       "      <th>26</th>\n",
       "      <td>0.556162</td>\n",
       "      <td>0.020984</td>\n",
       "      <td>0.581015</td>\n",
       "      <td>0.525410</td>\n",
       "      <td>20.0</td>\n",
       "      <td>1.0</td>\n",
       "      <td>34.0</td>\n",
       "    </tr>\n",
       "  </tbody>\n",
       "</table>\n",
       "</div>"
      ],
      "text/plain": [
       "    mean_score  std_score  max_score  min_score  knn__n_neighbors  knn__p  \\\n",
       "24    0.561241   0.013868   0.582651   0.545902              20.0     1.0   \n",
       "27    0.561091   0.009770   0.572131   0.545008              20.0     2.0   \n",
       "28    0.558779   0.022167   0.590016   0.531148              20.0     2.0   \n",
       "29    0.557959   0.023709   0.590835   0.527049              20.0     2.0   \n",
       "26    0.556162   0.020984   0.581015   0.525410              20.0     1.0   \n",
       "\n",
       "    rfi_fs__n_features_  \n",
       "24                 15.0  \n",
       "27                 15.0  \n",
       "28                 25.0  \n",
       "29                 34.0  \n",
       "26                 34.0  "
      ]
     },
     "execution_count": 34,
     "metadata": {},
     "output_type": "execute_result"
    }
   ],
   "source": [
    "results_KNN = get_search_results(gs_pipe_KNN)\n",
    "results_KNN.head()"
   ]
  },
  {
   "cell_type": "markdown",
   "metadata": {},
   "source": [
    "We observe that the difference between the hyperparameter combinations is not really much when conditioned on the number of features selected. Let's visualize the results of the grid search corresponding to 15 selected features."
   ]
  },
  {
   "cell_type": "code",
   "execution_count": 35,
   "metadata": {},
   "outputs": [
    {
     "data": {
      "application/javascript": [
       "var spec = {\"config\": {\"view\": {\"width\": 400, \"height\": 300}, \"mark\": {\"tooltip\": null}}, \"data\": {\"name\": \"data-27509bae22900620dbfc516639f33bb2\"}, \"mark\": {\"type\": \"line\", \"point\": true}, \"encoding\": {\"color\": {\"type\": \"nominal\", \"field\": \"knn__p\", \"title\": \"p\"}, \"x\": {\"type\": \"quantitative\", \"field\": \"knn__n_neighbors\", \"title\": \"Number of Neighbors\"}, \"y\": {\"type\": \"quantitative\", \"field\": \"mean_score\", \"scale\": {\"zero\": false}, \"title\": \"AUC Score\"}}, \"title\": \"KNN Performance Comparison with 15 Features\", \"$schema\": \"https://vega.github.io/schema/vega-lite/v3.2.1.json\", \"datasets\": {\"data-27509bae22900620dbfc516639f33bb2\": [{\"mean_score\": 0.5612414477744091, \"std_score\": 0.013868383448493535, \"max_score\": 0.5826513911620296, \"min_score\": 0.5459016393442623, \"knn__n_neighbors\": 20.0, \"knn__p\": 1.0, \"rfi_fs__n_features_\": 15.0}, {\"mean_score\": 0.5610906602988919, \"std_score\": 0.009770089364724212, \"max_score\": 0.5721311475409836, \"min_score\": 0.5450081833060556, \"knn__n_neighbors\": 20.0, \"knn__p\": 2.0, \"rfi_fs__n_features_\": 15.0}, {\"mean_score\": 0.5461820181910869, \"std_score\": 0.011172530598391638, \"max_score\": 0.5646481178396072, \"min_score\": 0.5310965630114567, \"knn__n_neighbors\": 12.0, \"knn__p\": 2.0, \"rfi_fs__n_features_\": 15.0}, {\"mean_score\": 0.5435628236430469, \"std_score\": 0.015190817183664461, \"max_score\": 0.5630114566284778, \"min_score\": 0.5196399345335515, \"knn__n_neighbors\": 8.0, \"knn__p\": 1.0, \"rfi_fs__n_features_\": 15.0}, {\"mean_score\": 0.5432309302138392, \"std_score\": 0.015280355813572746, \"max_score\": 0.5654664484451718, \"min_score\": 0.5237704918032787, \"knn__n_neighbors\": 8.0, \"knn__p\": 2.0, \"rfi_fs__n_features_\": 15.0}, {\"mean_score\": 0.5409382629926753, \"std_score\": 0.011710145089153188, \"max_score\": 0.560556464811784, \"min_score\": 0.5270491803278688, \"knn__n_neighbors\": 12.0, \"knn__p\": 1.0, \"rfi_fs__n_features_\": 15.0}, {\"mean_score\": 0.5361975798878484, \"std_score\": 0.010229582612021507, \"max_score\": 0.5467213114754098, \"min_score\": 0.5180032733224222, \"knn__n_neighbors\": 4.0, \"knn__p\": 2.0, \"rfi_fs__n_features_\": 15.0}, {\"mean_score\": 0.5330836307048376, \"std_score\": 0.009040055914374519, \"max_score\": 0.5441898527004909, \"min_score\": 0.5180032733224222, \"knn__n_neighbors\": 4.0, \"knn__p\": 1.0, \"rfi_fs__n_features_\": 15.0}, {\"mean_score\": 0.5303074776635992, \"std_score\": 0.01610486671107147, \"max_score\": 0.55, \"min_score\": 0.5016366612111294, \"knn__n_neighbors\": 2.0, \"knn__p\": 2.0, \"rfi_fs__n_features_\": 15.0}, {\"mean_score\": 0.5299769257599742, \"std_score\": 0.0096618956734603, \"max_score\": 0.540983606557377, \"min_score\": 0.513911620294599, \"knn__n_neighbors\": 2.0, \"knn__p\": 1.0, \"rfi_fs__n_features_\": 15.0}]}};\n",
       "var opt = {};\n",
       "var type = \"vega-lite\";\n",
       "var id = \"ad26a4a8-f0e7-4fb4-b681-3a4fa5666558\";\n",
       "\n",
       "var output_area = this;\n",
       "\n",
       "require([\"nbextensions/jupyter-vega/index\"], function(vega) {\n",
       "  var target = document.createElement(\"div\");\n",
       "  target.id = id;\n",
       "  target.className = \"vega-embed\";\n",
       "\n",
       "  var style = document.createElement(\"style\");\n",
       "  style.textContent = [\n",
       "    \".vega-embed .error p {\",\n",
       "    \"  color: firebrick;\",\n",
       "    \"  font-size: 14px;\",\n",
       "    \"}\",\n",
       "  ].join(\"\\\\n\");\n",
       "\n",
       "  // element is a jQuery wrapped DOM element inside the output area\n",
       "  // see http://ipython.readthedocs.io/en/stable/api/generated/\\\n",
       "  // IPython.display.html#IPython.display.Javascript.__init__\n",
       "  element[0].appendChild(target);\n",
       "  element[0].appendChild(style);\n",
       "\n",
       "  vega.render(\"#\" + id, spec, type, opt, output_area);\n",
       "}, function (err) {\n",
       "  if (err.requireType !== \"scripterror\") {\n",
       "    throw(err);\n",
       "  }\n",
       "});\n"
      ],
      "text/plain": [
       "<vega.vegalite.VegaLite at 0x2103c2c9320>"
      ]
     },
     "metadata": {
      "jupyter-vega": "#ad26a4a8-f0e7-4fb4-b681-3a4fa5666558"
     },
     "output_type": "display_data"
    },
    {
     "data": {
      "text/plain": []
     },
     "execution_count": 35,
     "metadata": {},
     "output_type": "execute_result"
    },
    {
     "data": {
      "image/png": "[encoded data removed]"
     },
     "metadata": {
      "jupyter-vega": "#ad26a4a8-f0e7-4fb4-b681-3a4fa5666558"
     },
     "output_type": "display_data"
    },
    {
     "data": {
      "image/png": "[encoded data removed]"
     },
     "metadata": {
      "jupyter-vega": "#ad26a4a8-f0e7-4fb4-b681-3a4fa5666558"
     },
     "output_type": "display_data"
    }
   ],
   "source": [
    "import altair as alt\n",
    "alt.renderers.enable('notebook')\n",
    "\n",
    "results_KNN_15_features = results_KNN[results_KNN['rfi_fs__n_features_'] == 15.0]\n",
    "\n",
    "alt.Chart(results_KNN_15_features, \n",
    "          title='KNN Performance Comparison with 15 Features'\n",
    "         ).mark_line(point=True).encode(\n",
    "    alt.X('knn__n_neighbors', title='Number of Neighbors'),\n",
    "    alt.Y('mean_score', title='AUC Score', scale=alt.Scale(zero=False)),\n",
    "    alt.Color('knn__p:N', title='p')\n",
    ")"
   ]
  },
  {
   "cell_type": "markdown",
   "metadata": {},
   "source": [
    "## Bagging Classifier"
   ]
  },
  {
   "cell_type": "markdown",
   "metadata": {},
   "source": [
    "We build a Bagging Classifier which is a Bootsrap aggregating of multiple samples. We aim to determine the optimal value of number of estimators (`n_estimators`)."
   ]
  },
  {
   "cell_type": "code",
   "execution_count": 36,
   "metadata": {},
   "outputs": [
    {
     "name": "stdout",
     "output_type": "stream",
     "text": [
      "Fitting 5 folds for each of 9 candidates, totalling 45 fits\n"
     ]
    },
    {
     "name": "stderr",
     "output_type": "stream",
     "text": [
      "[Parallel(n_jobs=-2)]: Using backend LokyBackend with 11 concurrent workers.\n",
      "[Parallel(n_jobs=-2)]: Done  45 out of  45 | elapsed:  1.1min finished\n",
      "C:\\Users\\viran\\Anaconda2\\envs\\Python 3.6\\lib\\site-packages\\ipykernel_launcher.py:19: DataConversionWarning: A column-vector y was passed when a 1d array was expected. Please change the shape of y to (n_samples,), for example using ravel().\n",
      "C:\\Users\\viran\\Anaconda2\\envs\\Python 3.6\\lib\\site-packages\\sklearn\\ensemble\\bagging.py:622: DataConversionWarning: A column-vector y was passed when a 1d array was expected. Please change the shape of y to (n_samples, ), for example using ravel().\n",
      "  y = column_or_1d(y, warn=True)\n"
     ]
    }
   ],
   "source": [
    "from sklearn.ensemble import RandomForestClassifier\n",
    "from sklearn.ensemble import BaggingClassifier\n",
    "\n",
    "from sklearn.pipeline import Pipeline\n",
    "from sklearn.neighbors import KNeighborsClassifier\n",
    "\n",
    "pipe_BG = Pipeline(steps=[('rfi_fs', RFIFeatureSelector()), \n",
    "                           ('bg', BaggingClassifier())])\n",
    "\n",
    "params_pipe_BG = {'rfi_fs__n_features_': [15, 25, Data_sample_train.shape[1]],\n",
    "                  'bg__n_estimators': [150, 200, 300]}\n",
    "\n",
    "gs_pipe_BG = GridSearchCV(estimator=pipe_BG, \n",
    "                           param_grid=params_pipe_BG, \n",
    "                           cv=cv_method,\n",
    "                           refit='roc_auc',\n",
    "                           n_jobs=-2,\n",
    "                           scoring=scorers,\n",
    "                           verbose=1) \n",
    "\n",
    "gs_pipe_BG.fit(Data_sample_train, target_sample_train);"
   ]
  },
  {
   "cell_type": "code",
   "execution_count": 37,
   "metadata": {},
   "outputs": [
    {
     "data": {
      "text/plain": [
       "{'bg__n_estimators': 300, 'rfi_fs__n_features_': 15}"
      ]
     },
     "execution_count": 37,
     "metadata": {},
     "output_type": "execute_result"
    }
   ],
   "source": [
    "gs_pipe_BG.best_params_"
   ]
  },
  {
   "cell_type": "code",
   "execution_count": 38,
   "metadata": {},
   "outputs": [
    {
     "data": {
      "text/plain": [
       "0.5792662954471012"
      ]
     },
     "execution_count": 38,
     "metadata": {},
     "output_type": "execute_result"
    }
   ],
   "source": [
    "gs_pipe_BG.best_score_"
   ]
  },
  {
   "cell_type": "code",
   "execution_count": 39,
   "metadata": {},
   "outputs": [],
   "source": [
    "pred_BG = gs_pipe_BG.predict(Data_sample_test)"
   ]
  },
  {
   "cell_type": "code",
   "execution_count": 40,
   "metadata": {},
   "outputs": [
    {
     "name": "stdout",
     "output_type": "stream",
     "text": [
      "              precision    recall  f1-score   support\n",
      "\n",
      "           0       0.82      0.55      0.66      4692\n",
      "           1       0.26      0.58      0.36      1308\n",
      "\n",
      "   micro avg       0.56      0.56      0.56      6000\n",
      "   macro avg       0.54      0.56      0.51      6000\n",
      "weighted avg       0.70      0.56      0.60      6000\n",
      "\n",
      "[[2587 2105]\n",
      " [ 553  755]]\n"
     ]
    }
   ],
   "source": [
    "print(metrics.classification_report(target_sample_test, pred_BG))\n",
    "\n",
    "print(metrics.confusion_matrix(target_sample_test, pred_BG))"
   ]
  },
  {
   "cell_type": "markdown",
   "metadata": {},
   "source": [
    "The best Bagging Classifier has 200 number of estimators and 34 features with an AUC score of 0.577. A visualization of the search results is given below."
   ]
  },
  {
   "cell_type": "code",
   "execution_count": 41,
   "metadata": {},
   "outputs": [
    {
     "data": {
      "text/html": [
       "<div>\n",
       "<style scoped>\n",
       "    .dataframe tbody tr th:only-of-type {\n",
       "        vertical-align: middle;\n",
       "    }\n",
       "\n",
       "    .dataframe tbody tr th {\n",
       "        vertical-align: top;\n",
       "    }\n",
       "\n",
       "    .dataframe thead th {\n",
       "        text-align: right;\n",
       "    }\n",
       "</style>\n",
       "<table border=\"1\" class=\"dataframe\">\n",
       "  <thead>\n",
       "    <tr style=\"text-align: right;\">\n",
       "      <th></th>\n",
       "      <th>mean_score</th>\n",
       "      <th>std_score</th>\n",
       "      <th>max_score</th>\n",
       "      <th>min_score</th>\n",
       "      <th>bg__n_estimators</th>\n",
       "      <th>rfi_fs__n_features_</th>\n",
       "    </tr>\n",
       "  </thead>\n",
       "  <tbody>\n",
       "    <tr>\n",
       "      <th>6</th>\n",
       "      <td>0.579261</td>\n",
       "      <td>0.008024</td>\n",
       "      <td>0.591653</td>\n",
       "      <td>0.570492</td>\n",
       "      <td>300.0</td>\n",
       "      <td>15.0</td>\n",
       "    </tr>\n",
       "    <tr>\n",
       "      <th>0</th>\n",
       "      <td>0.574508</td>\n",
       "      <td>0.014388</td>\n",
       "      <td>0.595745</td>\n",
       "      <td>0.559016</td>\n",
       "      <td>150.0</td>\n",
       "      <td>15.0</td>\n",
       "    </tr>\n",
       "    <tr>\n",
       "      <th>8</th>\n",
       "      <td>0.574014</td>\n",
       "      <td>0.015756</td>\n",
       "      <td>0.592471</td>\n",
       "      <td>0.550000</td>\n",
       "      <td>300.0</td>\n",
       "      <td>34.0</td>\n",
       "    </tr>\n",
       "    <tr>\n",
       "      <th>3</th>\n",
       "      <td>0.573361</td>\n",
       "      <td>0.013057</td>\n",
       "      <td>0.590016</td>\n",
       "      <td>0.557377</td>\n",
       "      <td>200.0</td>\n",
       "      <td>15.0</td>\n",
       "    </tr>\n",
       "    <tr>\n",
       "      <th>2</th>\n",
       "      <td>0.573361</td>\n",
       "      <td>0.013785</td>\n",
       "      <td>0.590016</td>\n",
       "      <td>0.554098</td>\n",
       "      <td>150.0</td>\n",
       "      <td>34.0</td>\n",
       "    </tr>\n",
       "  </tbody>\n",
       "</table>\n",
       "</div>"
      ],
      "text/plain": [
       "   mean_score  std_score  max_score  min_score  bg__n_estimators  \\\n",
       "6    0.579261   0.008024   0.591653   0.570492             300.0   \n",
       "0    0.574508   0.014388   0.595745   0.559016             150.0   \n",
       "8    0.574014   0.015756   0.592471   0.550000             300.0   \n",
       "3    0.573361   0.013057   0.590016   0.557377             200.0   \n",
       "2    0.573361   0.013785   0.590016   0.554098             150.0   \n",
       "\n",
       "   rfi_fs__n_features_  \n",
       "6                 15.0  \n",
       "0                 15.0  \n",
       "8                 34.0  \n",
       "3                 15.0  \n",
       "2                 34.0  "
      ]
     },
     "execution_count": 41,
     "metadata": {},
     "output_type": "execute_result"
    }
   ],
   "source": [
    "results_BG = get_search_results(gs_pipe_BG)\n",
    "results_BG.head()"
   ]
  },
  {
   "cell_type": "code",
   "execution_count": 42,
   "metadata": {},
   "outputs": [
    {
     "data": {
      "application/javascript": [
       "var spec = {\"config\": {\"view\": {\"width\": 400, \"height\": 300}, \"mark\": {\"tooltip\": null}}, \"data\": {\"name\": \"data-04baf100391f71c063dbc9e383e79b4b\"}, \"mark\": {\"type\": \"line\", \"point\": true}, \"encoding\": {\"x\": {\"type\": \"quantitative\", \"field\": \"bg__n_estimators\", \"title\": \"No of Estimators\"}, \"y\": {\"type\": \"quantitative\", \"field\": \"mean_score\", \"scale\": {\"zero\": false}, \"title\": \"AUC Score\"}}, \"title\": \"Bagging Classifier Performance Comparison with 15 Features\", \"$schema\": \"https://vega.github.io/schema/vega-lite/v3.2.1.json\", \"datasets\": {\"data-04baf100391f71c063dbc9e383e79b4b\": [{\"mean_score\": 0.5792605510987094, \"std_score\": 0.008024092419841356, \"max_score\": 0.5916530278232406, \"min_score\": 0.5704918032786885, \"bg__n_estimators\": 300.0, \"rfi_fs__n_features_\": 15.0}, {\"mean_score\": 0.5745075259585202, \"std_score\": 0.014387721809315798, \"max_score\": 0.5957446808510639, \"min_score\": 0.559016393442623, \"bg__n_estimators\": 150.0, \"rfi_fs__n_features_\": 15.0}, {\"mean_score\": 0.5733610581953799, \"std_score\": 0.013057097385239715, \"max_score\": 0.5900163666121113, \"min_score\": 0.5573770491803279, \"bg__n_estimators\": 200.0, \"rfi_fs__n_features_\": 15.0}]}};\n",
       "var opt = {};\n",
       "var type = \"vega-lite\";\n",
       "var id = \"d190e9d0-130c-473d-b058-fb9e90918691\";\n",
       "\n",
       "var output_area = this;\n",
       "\n",
       "require([\"nbextensions/jupyter-vega/index\"], function(vega) {\n",
       "  var target = document.createElement(\"div\");\n",
       "  target.id = id;\n",
       "  target.className = \"vega-embed\";\n",
       "\n",
       "  var style = document.createElement(\"style\");\n",
       "  style.textContent = [\n",
       "    \".vega-embed .error p {\",\n",
       "    \"  color: firebrick;\",\n",
       "    \"  font-size: 14px;\",\n",
       "    \"}\",\n",
       "  ].join(\"\\\\n\");\n",
       "\n",
       "  // element is a jQuery wrapped DOM element inside the output area\n",
       "  // see http://ipython.readthedocs.io/en/stable/api/generated/\\\n",
       "  // IPython.display.html#IPython.display.Javascript.__init__\n",
       "  element[0].appendChild(target);\n",
       "  element[0].appendChild(style);\n",
       "\n",
       "  vega.render(\"#\" + id, spec, type, opt, output_area);\n",
       "}, function (err) {\n",
       "  if (err.requireType !== \"scripterror\") {\n",
       "    throw(err);\n",
       "  }\n",
       "});\n"
      ],
      "text/plain": [
       "<vega.vegalite.VegaLite at 0x21004fa3780>"
      ]
     },
     "metadata": {
      "jupyter-vega": "#d190e9d0-130c-473d-b058-fb9e90918691"
     },
     "output_type": "display_data"
    },
    {
     "data": {
      "text/plain": []
     },
     "execution_count": 42,
     "metadata": {},
     "output_type": "execute_result"
    },
    {
     "data": {
      "image/png": "[encoded data removed]"
     },
     "metadata": {
      "jupyter-vega": "#d190e9d0-130c-473d-b058-fb9e90918691"
     },
     "output_type": "display_data"
    },
    {
     "data": {
      "image/png": "[encoded data removed]"
     },
     "metadata": {
      "jupyter-vega": "#d190e9d0-130c-473d-b058-fb9e90918691"
     },
     "output_type": "display_data"
    }
   ],
   "source": [
    "results_BG_15_features = results_BG[results_BG['rfi_fs__n_features_'] == 15.0]\n",
    "\n",
    "alt.Chart(results_BG_15_features, \n",
    "          title='Bagging Classifier Performance Comparison with 15 Features'\n",
    "         ).mark_line(point=True).encode(\n",
    "    alt.X('bg__n_estimators', title='No of Estimators'),\n",
    "    alt.Y('mean_score', title='AUC Score', scale=alt.Scale(zero=False))\n",
    ")"
   ]
  },
  {
   "cell_type": "markdown",
   "metadata": {},
   "source": [
    "### XGBoosting"
   ]
  },
  {
   "cell_type": "markdown",
   "metadata": {},
   "source": [
    "We also build a XGBoosting Model. We aim to determine the optimal combinations of Number of Estimators (`n_estimators`) and Learning Rate (`learning_rate`)."
   ]
  },
  {
   "cell_type": "code",
   "execution_count": 43,
   "metadata": {
    "scrolled": false
   },
   "outputs": [
    {
     "name": "stdout",
     "output_type": "stream",
     "text": [
      "Fitting 5 folds for each of 48 candidates, totalling 240 fits\n"
     ]
    },
    {
     "name": "stderr",
     "output_type": "stream",
     "text": [
      "[Parallel(n_jobs=-2)]: Using backend LokyBackend with 11 concurrent workers.\n",
      "[Parallel(n_jobs=-2)]: Done  28 tasks      | elapsed:   11.0s\n",
      "[Parallel(n_jobs=-2)]: Done 178 tasks      | elapsed:  1.1min\n",
      "[Parallel(n_jobs=-2)]: Done 240 out of 240 | elapsed:  1.4min finished\n",
      "C:\\Users\\viran\\Anaconda2\\envs\\Python 3.6\\lib\\site-packages\\ipykernel_launcher.py:19: DataConversionWarning: A column-vector y was passed when a 1d array was expected. Please change the shape of y to (n_samples,), for example using ravel().\n",
      "C:\\Users\\viran\\Anaconda2\\envs\\Python 3.6\\lib\\site-packages\\sklearn\\preprocessing\\label.py:219: DataConversionWarning: A column-vector y was passed when a 1d array was expected. Please change the shape of y to (n_samples, ), for example using ravel().\n",
      "  y = column_or_1d(y, warn=True)\n",
      "C:\\Users\\viran\\Anaconda2\\envs\\Python 3.6\\lib\\site-packages\\sklearn\\preprocessing\\label.py:252: DataConversionWarning: A column-vector y was passed when a 1d array was expected. Please change the shape of y to (n_samples, ), for example using ravel().\n",
      "  y = column_or_1d(y, warn=True)\n"
     ]
    }
   ],
   "source": [
    "import xgboost as xgb\n",
    "from xgboost import XGBClassifier\n",
    "\n",
    "pipe_XG = Pipeline([('rfi_fs', RFIFeatureSelector()),\n",
    "                    ('xg', XGBClassifier())])\n",
    "\n",
    "params_pipe_XG = {'rfi_fs__n_features_': [15, 25, Data_sample_train.shape[1]],\n",
    "                  'xg__n_estimators': [120, 140, 160, 300],\n",
    "                  'xg__learning_rate': [0.06, 0.2, 0.6, 1.0]}\n",
    "\n",
    "gs_pipe_XG = GridSearchCV(estimator=pipe_XG, \n",
    "                          param_grid=params_pipe_XG, \n",
    "                          cv=cv_method,\n",
    "                          refit='roc_auc',\n",
    "                          n_jobs=-2,\n",
    "                          scoring=scorers,\n",
    "                          verbose=1) \n",
    "\n",
    "gs_pipe_XG.fit(Data_sample_train, target_sample_train);"
   ]
  },
  {
   "cell_type": "code",
   "execution_count": 44,
   "metadata": {},
   "outputs": [
    {
     "data": {
      "text/plain": [
       "{'rfi_fs__n_features_': 34, 'xg__learning_rate': 0.06, 'xg__n_estimators': 300}"
      ]
     },
     "execution_count": 44,
     "metadata": {},
     "output_type": "execute_result"
    }
   ],
   "source": [
    "gs_pipe_XG.best_params_"
   ]
  },
  {
   "cell_type": "code",
   "execution_count": 45,
   "metadata": {},
   "outputs": [
    {
     "data": {
      "text/plain": [
       "0.5913855224369473"
      ]
     },
     "execution_count": 45,
     "metadata": {},
     "output_type": "execute_result"
    }
   ],
   "source": [
    "gs_pipe_XG.best_score_"
   ]
  },
  {
   "cell_type": "code",
   "execution_count": 46,
   "metadata": {},
   "outputs": [],
   "source": [
    "pred_XG = gs_pipe_XG.predict(Data_sample_test)"
   ]
  },
  {
   "cell_type": "code",
   "execution_count": 47,
   "metadata": {},
   "outputs": [
    {
     "name": "stdout",
     "output_type": "stream",
     "text": [
      "              precision    recall  f1-score   support\n",
      "\n",
      "           0       0.85      0.51      0.64      4692\n",
      "           1       0.28      0.68      0.39      1308\n",
      "\n",
      "   micro avg       0.55      0.55      0.55      6000\n",
      "   macro avg       0.56      0.59      0.52      6000\n",
      "weighted avg       0.73      0.55      0.59      6000\n",
      "\n",
      "[[2398 2294]\n",
      " [ 423  885]]\n"
     ]
    }
   ],
   "source": [
    "print(metrics.classification_report(target_sample_test, pred_XG))\n",
    "\n",
    "print(metrics.confusion_matrix(target_sample_test, pred_XG))"
   ]
  },
  {
   "cell_type": "markdown",
   "metadata": {},
   "source": [
    "The best XGBoosting Model has 300 Number of Estimators (`n_estimators`), 34 features and Learning Rate of 0.06 with an AUC score of 0.59. A visualization of the search results is given below."
   ]
  },
  {
   "cell_type": "code",
   "execution_count": 48,
   "metadata": {},
   "outputs": [
    {
     "data": {
      "text/html": [
       "<div>\n",
       "<style scoped>\n",
       "    .dataframe tbody tr th:only-of-type {\n",
       "        vertical-align: middle;\n",
       "    }\n",
       "\n",
       "    .dataframe tbody tr th {\n",
       "        vertical-align: top;\n",
       "    }\n",
       "\n",
       "    .dataframe thead th {\n",
       "        text-align: right;\n",
       "    }\n",
       "</style>\n",
       "<table border=\"1\" class=\"dataframe\">\n",
       "  <thead>\n",
       "    <tr style=\"text-align: right;\">\n",
       "      <th></th>\n",
       "      <th>mean_score</th>\n",
       "      <th>std_score</th>\n",
       "      <th>max_score</th>\n",
       "      <th>min_score</th>\n",
       "      <th>rfi_fs__n_features_</th>\n",
       "      <th>xg__learning_rate</th>\n",
       "      <th>xg__n_estimators</th>\n",
       "    </tr>\n",
       "  </thead>\n",
       "  <tbody>\n",
       "    <tr>\n",
       "      <th>35</th>\n",
       "      <td>0.591384</td>\n",
       "      <td>0.010925</td>\n",
       "      <td>0.610475</td>\n",
       "      <td>0.580196</td>\n",
       "      <td>34.0</td>\n",
       "      <td>0.06</td>\n",
       "      <td>300.0</td>\n",
       "    </tr>\n",
       "    <tr>\n",
       "      <th>19</th>\n",
       "      <td>0.590728</td>\n",
       "      <td>0.011858</td>\n",
       "      <td>0.608020</td>\n",
       "      <td>0.574468</td>\n",
       "      <td>25.0</td>\n",
       "      <td>0.06</td>\n",
       "      <td>300.0</td>\n",
       "    </tr>\n",
       "    <tr>\n",
       "      <th>32</th>\n",
       "      <td>0.589741</td>\n",
       "      <td>0.009812</td>\n",
       "      <td>0.601473</td>\n",
       "      <td>0.574590</td>\n",
       "      <td>34.0</td>\n",
       "      <td>0.06</td>\n",
       "      <td>120.0</td>\n",
       "    </tr>\n",
       "    <tr>\n",
       "      <th>34</th>\n",
       "      <td>0.589413</td>\n",
       "      <td>0.009847</td>\n",
       "      <td>0.600655</td>\n",
       "      <td>0.576230</td>\n",
       "      <td>34.0</td>\n",
       "      <td>0.06</td>\n",
       "      <td>160.0</td>\n",
       "    </tr>\n",
       "    <tr>\n",
       "      <th>17</th>\n",
       "      <td>0.589086</td>\n",
       "      <td>0.010446</td>\n",
       "      <td>0.604746</td>\n",
       "      <td>0.577049</td>\n",
       "      <td>25.0</td>\n",
       "      <td>0.06</td>\n",
       "      <td>140.0</td>\n",
       "    </tr>\n",
       "  </tbody>\n",
       "</table>\n",
       "</div>"
      ],
      "text/plain": [
       "    mean_score  std_score  max_score  min_score  rfi_fs__n_features_  \\\n",
       "35    0.591384   0.010925   0.610475   0.580196                 34.0   \n",
       "19    0.590728   0.011858   0.608020   0.574468                 25.0   \n",
       "32    0.589741   0.009812   0.601473   0.574590                 34.0   \n",
       "34    0.589413   0.009847   0.600655   0.576230                 34.0   \n",
       "17    0.589086   0.010446   0.604746   0.577049                 25.0   \n",
       "\n",
       "    xg__learning_rate  xg__n_estimators  \n",
       "35               0.06             300.0  \n",
       "19               0.06             300.0  \n",
       "32               0.06             120.0  \n",
       "34               0.06             160.0  \n",
       "17               0.06             140.0  "
      ]
     },
     "execution_count": 48,
     "metadata": {},
     "output_type": "execute_result"
    }
   ],
   "source": [
    "results_XG = get_search_results(gs_pipe_XG)\n",
    "results_XG.head()"
   ]
  },
  {
   "cell_type": "markdown",
   "metadata": {},
   "source": [
    "Here also, the difference between the hyperparameter combinations is not really much when conditioned on the number of features selected. Let's visualize the results of the grid search corresponding to 15 selected features."
   ]
  },
  {
   "cell_type": "code",
   "execution_count": 49,
   "metadata": {
    "scrolled": false
   },
   "outputs": [
    {
     "data": {
      "application/javascript": [
       "var spec = {\"config\": {\"view\": {\"width\": 400, \"height\": 300}, \"mark\": {\"tooltip\": null}}, \"data\": {\"name\": \"data-f88ba26419858dcfc50f4610dfe360b9\"}, \"mark\": {\"type\": \"line\", \"point\": true}, \"encoding\": {\"color\": {\"type\": \"nominal\", \"field\": \"xg__learning_rate\", \"title\": \"Learning Rate\"}, \"x\": {\"type\": \"quantitative\", \"field\": \"xg__n_estimators\", \"title\": \"No of Estimators\"}, \"y\": {\"type\": \"quantitative\", \"field\": \"mean_score\", \"scale\": {\"zero\": false}, \"title\": \"AUC Score\"}}, \"title\": \"XG Performance Comparison with 15 Features\", \"$schema\": \"https://vega.github.io/schema/vega-lite/v3.2.1.json\", \"datasets\": {\"data-f88ba26419858dcfc50f4610dfe360b9\": [{\"mean_score\": 0.5879426363660755, \"std_score\": 0.008156257472559615, \"max_score\": 0.5981996726677578, \"min_score\": 0.5793780687397709, \"rfi_fs__n_features_\": 15.0, \"xg__learning_rate\": 0.06, \"xg__n_estimators\": 300.0}, {\"mean_score\": 0.5871208177939954, \"std_score\": 0.010909880524941353, \"max_score\": 0.5981996726677579, \"min_score\": 0.5663934426229508, \"rfi_fs__n_features_\": 15.0, \"xg__learning_rate\": 0.06, \"xg__n_estimators\": 120.0}, {\"mean_score\": 0.5863035604088969, \"std_score\": 0.010064184849643793, \"max_score\": 0.5973813420621932, \"min_score\": 0.5688524590163935, \"rfi_fs__n_features_\": 15.0, \"xg__learning_rate\": 0.06, \"xg__n_estimators\": 160.0}, {\"mean_score\": 0.5863030237986638, \"std_score\": 0.010844265210887041, \"max_score\": 0.5990180032733224, \"min_score\": 0.5663934426229508, \"rfi_fs__n_features_\": 15.0, \"xg__learning_rate\": 0.06, \"xg__n_estimators\": 140.0}, {\"mean_score\": 0.5822086877196748, \"std_score\": 0.008094878086554918, \"max_score\": 0.59328968903437, \"min_score\": 0.569672131147541, \"rfi_fs__n_features_\": 15.0, \"xg__learning_rate\": 0.2, \"xg__n_estimators\": 120.0}, {\"mean_score\": 0.5807346194091921, \"std_score\": 0.009584620812059422, \"max_score\": 0.5908346972176759, \"min_score\": 0.5631147540983608, \"rfi_fs__n_features_\": 15.0, \"xg__learning_rate\": 0.2, \"xg__n_estimators\": 160.0}, {\"mean_score\": 0.5807338144938424, \"std_score\": 0.009130177815349198, \"max_score\": 0.5941080196399345, \"min_score\": 0.5688524590163935, \"rfi_fs__n_features_\": 15.0, \"xg__learning_rate\": 0.2, \"xg__n_estimators\": 140.0}, {\"mean_score\": 0.58056853854203, \"std_score\": 0.011813089387114268, \"max_score\": 0.5916530278232406, \"min_score\": 0.559016393442623, \"rfi_fs__n_features_\": 15.0, \"xg__learning_rate\": 0.2, \"xg__n_estimators\": 300.0}, {\"mean_score\": 0.5709017734968206, \"std_score\": 0.01517683488074595, \"max_score\": 0.5851063829787234, \"min_score\": 0.5499999999999999, \"rfi_fs__n_features_\": 15.0, \"xg__learning_rate\": 0.6, \"xg__n_estimators\": 120.0}, {\"mean_score\": 0.5684451718494272, \"std_score\": 0.01757277517334461, \"max_score\": 0.5891980360065466, \"min_score\": 0.537704918032787, \"rfi_fs__n_features_\": 15.0, \"xg__learning_rate\": 0.6, \"xg__n_estimators\": 140.0}, {\"mean_score\": 0.5617270800354163, \"std_score\": 0.02143330037509926, \"max_score\": 0.585924713584288, \"min_score\": 0.5254098360655738, \"rfi_fs__n_features_\": 15.0, \"xg__learning_rate\": 0.6, \"xg__n_estimators\": 160.0}, {\"mean_score\": 0.5609082128196186, \"std_score\": 0.02290802001541126, \"max_score\": 0.5793780687397709, \"min_score\": 0.5180327868852459, \"rfi_fs__n_features_\": 15.0, \"xg__learning_rate\": 0.6, \"xg__n_estimators\": 300.0}, {\"mean_score\": 0.552398916047329, \"std_score\": 0.01667500156685007, \"max_score\": 0.5801963993453355, \"min_score\": 0.528688524590164, \"rfi_fs__n_features_\": 15.0, \"xg__learning_rate\": 1.0, \"xg__n_estimators\": 300.0}, {\"mean_score\": 0.549449974511014, \"std_score\": 0.018373614114569333, \"max_score\": 0.5834697217675942, \"min_score\": 0.5286885245901639, \"rfi_fs__n_features_\": 15.0, \"xg__learning_rate\": 1.0, \"xg__n_estimators\": 120.0}, {\"mean_score\": 0.5486348635668482, \"std_score\": 0.01320642197852323, \"max_score\": 0.5711947626841244, \"min_score\": 0.5327868852459017, \"rfi_fs__n_features_\": 15.0, \"xg__learning_rate\": 1.0, \"xg__n_estimators\": 160.0}, {\"mean_score\": 0.5422457138257627, \"std_score\": 0.018494936819817218, \"max_score\": 0.5752864157119477, \"min_score\": 0.5245901639344264, \"rfi_fs__n_features_\": 15.0, \"xg__learning_rate\": 1.0, \"xg__n_estimators\": 140.0}]}};\n",
       "var opt = {};\n",
       "var type = \"vega-lite\";\n",
       "var id = \"a90a2b85-0f65-46a5-a524-f12cfcbfc3e7\";\n",
       "\n",
       "var output_area = this;\n",
       "\n",
       "require([\"nbextensions/jupyter-vega/index\"], function(vega) {\n",
       "  var target = document.createElement(\"div\");\n",
       "  target.id = id;\n",
       "  target.className = \"vega-embed\";\n",
       "\n",
       "  var style = document.createElement(\"style\");\n",
       "  style.textContent = [\n",
       "    \".vega-embed .error p {\",\n",
       "    \"  color: firebrick;\",\n",
       "    \"  font-size: 14px;\",\n",
       "    \"}\",\n",
       "  ].join(\"\\\\n\");\n",
       "\n",
       "  // element is a jQuery wrapped DOM element inside the output area\n",
       "  // see http://ipython.readthedocs.io/en/stable/api/generated/\\\n",
       "  // IPython.display.html#IPython.display.Javascript.__init__\n",
       "  element[0].appendChild(target);\n",
       "  element[0].appendChild(style);\n",
       "\n",
       "  vega.render(\"#\" + id, spec, type, opt, output_area);\n",
       "}, function (err) {\n",
       "  if (err.requireType !== \"scripterror\") {\n",
       "    throw(err);\n",
       "  }\n",
       "});\n"
      ],
      "text/plain": [
       "<vega.vegalite.VegaLite at 0x21000e8ac88>"
      ]
     },
     "metadata": {
      "jupyter-vega": "#a90a2b85-0f65-46a5-a524-f12cfcbfc3e7"
     },
     "output_type": "display_data"
    },
    {
     "data": {
      "text/plain": []
     },
     "execution_count": 49,
     "metadata": {},
     "output_type": "execute_result"
    },
    {
     "data": {
      "image/png": "[encoded data removed]"
     },
     "metadata": {
      "jupyter-vega": "#a90a2b85-0f65-46a5-a524-f12cfcbfc3e7"
     },
     "output_type": "display_data"
    },
    {
     "data": {
      "image/png": "[encoded data removed]"
     },
     "metadata": {
      "jupyter-vega": "#a90a2b85-0f65-46a5-a524-f12cfcbfc3e7"
     },
     "output_type": "display_data"
    }
   ],
   "source": [
    "results_XG_15_features = results_XG[results_XG['rfi_fs__n_features_'] == 15.0]\n",
    "\n",
    "alt.Chart(results_XG_15_features, \n",
    "          title='XG Performance Comparison with 15 Features'\n",
    "         ).mark_line(point=True).encode(\n",
    "    alt.X('xg__n_estimators', title='No of Estimators'),\n",
    "    alt.Y('mean_score', title='AUC Score', scale=alt.Scale(zero=False)),\n",
    "    alt.Color('xg__learning_rate:N', title='Learning Rate')\n",
    ")"
   ]
  },
  {
   "cell_type": "markdown",
   "metadata": {},
   "source": [
    "## Further Modeling\n",
    "\n",
    "We notice that if we use **SMOTTomek instead of Random UnderSampling** when doing Resampling, We get an **AUC Score of more than 0.8** for all 3 classifiers, but the recall value for `default = true` prediction **(Target value - 1)** very less than the current models."
   ]
  },
  {
   "cell_type": "markdown",
   "metadata": {},
   "source": [
    "# Performance Comparison <a class=\"anchor\" id=\"5\"></a> \n",
    "\n",
    "We have optimized each one of the three classifiers using the **training data**. We will now fit the optimized models on the **test data** in a cross-validated fashion. We will perform pairwise t-tests to determine if any difference between the performance of any two optimized classifiers is statistically significant [1] as cross validation itself is a random process. First, we wil perform 10-fold stratified cross-validation on each best model (without any repetitions). Second, we will perform a paired t-test for the AUC score between the following model combinations:\n",
    "\n",
    "* KNN vs. Bagging Classifier,\n",
    "* KNN vs. XGBoosting, and\n",
    "* XGBoosting vs. Bagging Classifier.\n"
   ]
  },
  {
   "cell_type": "code",
   "execution_count": 50,
   "metadata": {
    "scrolled": false
   },
   "outputs": [
    {
     "data": {
      "text/plain": [
       "0.5714429281432499"
      ]
     },
     "execution_count": 50,
     "metadata": {},
     "output_type": "execute_result"
    }
   ],
   "source": [
    "from sklearn.model_selection import cross_val_score\n",
    "\n",
    "cv_method_ttest = StratifiedKFold(n_splits=10, random_state=111)\n",
    "\n",
    "cv_results_KNN = cross_val_score(estimator=gs_pipe_KNN.best_estimator_,\n",
    "                                 X=Data_sample_test,\n",
    "                                 y=target_sample_test, \n",
    "                                 cv=cv_method_ttest, \n",
    "                                 n_jobs=-2,\n",
    "                                 scoring='roc_auc')\n",
    "cv_results_KNN.mean()"
   ]
  },
  {
   "cell_type": "code",
   "execution_count": 51,
   "metadata": {},
   "outputs": [
    {
     "data": {
      "text/plain": [
       "0.5649949904405335"
      ]
     },
     "execution_count": 51,
     "metadata": {},
     "output_type": "execute_result"
    }
   ],
   "source": [
    "cv_results_BG = cross_val_score(estimator=gs_pipe_BG.best_estimator_,\n",
    "                                X=Data_sample_test,\n",
    "                                y=target_sample_test, \n",
    "                                cv=cv_method_ttest, \n",
    "                                n_jobs=-2,\n",
    "                                scoring='roc_auc')\n",
    "cv_results_BG.mean()"
   ]
  },
  {
   "cell_type": "code",
   "execution_count": 52,
   "metadata": {},
   "outputs": [
    {
     "data": {
      "text/plain": [
       "0.6153060354542711"
      ]
     },
     "execution_count": 52,
     "metadata": {},
     "output_type": "execute_result"
    }
   ],
   "source": [
    "cv_results_XG = cross_val_score(estimator=gs_pipe_XG.best_estimator_,\n",
    "                                X=Data_sample_test,\n",
    "                                y=target_sample_test, \n",
    "                                cv=cv_method_ttest, \n",
    "                                n_jobs=-2,\n",
    "                                scoring='roc_auc')\n",
    "cv_results_XG.mean()"
   ]
  },
  {
   "cell_type": "markdown",
   "metadata": {},
   "source": [
    "Since we set the random state to be same during cross-validation, all classifiers are fitted and tested on exactly the same test data partitions. We use the `stats.ttest_rel` function from the `SciPy` module to run the following t-tests on **test data**."
   ]
  },
  {
   "cell_type": "code",
   "execution_count": 53,
   "metadata": {},
   "outputs": [
    {
     "name": "stdout",
     "output_type": "stream",
     "text": [
      "Ttest_relResult(statistic=0.7227559068197738, pvalue=0.4881851583364566)\n",
      "Ttest_relResult(statistic=4.990186337147682, pvalue=0.0007489377561337245)\n",
      "Ttest_relResult(statistic=7.918384383423829, pvalue=2.4022330568540306e-05)\n"
     ]
    }
   ],
   "source": [
    "from scipy import stats\n",
    "\n",
    "print(stats.ttest_rel(cv_results_KNN, cv_results_BG))\n",
    "print(stats.ttest_rel(cv_results_XG, cv_results_KNN))\n",
    "print(stats.ttest_rel(cv_results_XG, cv_results_BG))"
   ]
  },
  {
   "cell_type": "markdown",
   "metadata": {},
   "source": [
    "A p-value smaller than 0.05 indicates a statistically significant difference. From the results of t-tests, we can conclude that at a 95% significance level, XGBoosting is statistically the best model in this competition (in terms of AUC) when compared on the **test data**. t-test between Bagging & KNN shows p-value of 0.924, which denotes that methods have almost same prediction score with KNN having slightly higher value."
   ]
  },
  {
   "cell_type": "markdown",
   "metadata": {},
   "source": [
    "Though we used AUC to optimize the algorithm hyperparameters, we shall also consider the following performance metrics to evaluate models based on the test set:\n",
    "\n",
    "* Accuracy\n",
    "* Precision\n",
    "* Recall\n",
    "* F1 Score (the harmonic average of precision and recall)\n",
    "* Confusion Matrix\n",
    "\n",
    "These metrics can be computed using `classification_report` from `sklearn.metrics`. The classification reports are shown below."
   ]
  },
  {
   "cell_type": "code",
   "execution_count": 54,
   "metadata": {},
   "outputs": [],
   "source": [
    "pred_KNN = gs_pipe_KNN.predict(Data_sample_test)"
   ]
  },
  {
   "cell_type": "code",
   "execution_count": 55,
   "metadata": {},
   "outputs": [],
   "source": [
    "pred_BG = gs_pipe_BG.predict(Data_sample_test)"
   ]
  },
  {
   "cell_type": "code",
   "execution_count": 56,
   "metadata": {},
   "outputs": [],
   "source": [
    "pred_XG = gs_pipe_XG.predict(Data_sample_test)"
   ]
  },
  {
   "cell_type": "code",
   "execution_count": 57,
   "metadata": {},
   "outputs": [
    {
     "name": "stdout",
     "output_type": "stream",
     "text": [
      "\n",
      "Classification report for K-Nearest Neighbor\n",
      "              precision    recall  f1-score   support\n",
      "\n",
      "           0       0.82      0.59      0.69      4692\n",
      "           1       0.27      0.53      0.36      1308\n",
      "\n",
      "   micro avg       0.58      0.58      0.58      6000\n",
      "   macro avg       0.54      0.56      0.52      6000\n",
      "weighted avg       0.70      0.58      0.62      6000\n",
      "\n",
      "\n",
      "Classification report for Bagging Classifier\n",
      "              precision    recall  f1-score   support\n",
      "\n",
      "           0       0.82      0.55      0.66      4692\n",
      "           1       0.26      0.58      0.36      1308\n",
      "\n",
      "   micro avg       0.56      0.56      0.56      6000\n",
      "   macro avg       0.54      0.56      0.51      6000\n",
      "weighted avg       0.70      0.56      0.60      6000\n",
      "\n",
      "\n",
      "Classification report for XGBoosting\n",
      "              precision    recall  f1-score   support\n",
      "\n",
      "           0       0.85      0.51      0.64      4692\n",
      "           1       0.28      0.68      0.39      1308\n",
      "\n",
      "   micro avg       0.55      0.55      0.55      6000\n",
      "   macro avg       0.56      0.59      0.52      6000\n",
      "weighted avg       0.73      0.55      0.59      6000\n",
      "\n"
     ]
    }
   ],
   "source": [
    "from sklearn import metrics\n",
    "print(\"\\nClassification report for K-Nearest Neighbor\") \n",
    "print(metrics.classification_report(target_sample_test, pred_KNN))\n",
    "print(\"\\nClassification report for Bagging Classifier\") \n",
    "print(metrics.classification_report(target_sample_test, pred_BG))\n",
    "print(\"\\nClassification report for XGBoosting\") \n",
    "print(metrics.classification_report(target_sample_test, pred_XG))"
   ]
  },
  {
   "cell_type": "markdown",
   "metadata": {},
   "source": [
    "The confusion matrices are given below."
   ]
  },
  {
   "cell_type": "code",
   "execution_count": 58,
   "metadata": {},
   "outputs": [
    {
     "name": "stdout",
     "output_type": "stream",
     "text": [
      "\n",
      "Confusion matrix for K-Nearest Neighbor\n",
      "[[2776 1916]\n",
      " [ 610  698]]\n",
      "\n",
      "Confusion matrix for Bagging Classifier\n",
      "[[2587 2105]\n",
      " [ 553  755]]\n",
      "\n",
      "Confusion matrix for XGBoosting\n",
      "[[2398 2294]\n",
      " [ 423  885]]\n"
     ]
    }
   ],
   "source": [
    "from sklearn import metrics\n",
    "print(\"\\nConfusion matrix for K-Nearest Neighbor\") \n",
    "print(metrics.confusion_matrix(target_sample_test, pred_KNN))\n",
    "print(\"\\nConfusion matrix for Bagging Classifier\") \n",
    "print(metrics.confusion_matrix(target_sample_test, pred_BG))\n",
    "print(\"\\nConfusion matrix for XGBoosting\") \n",
    "print(metrics.confusion_matrix(target_sample_test, pred_XG))"
   ]
  },
  {
   "cell_type": "markdown",
   "metadata": {},
   "source": [
    "# Limitations and Proposed Solutions <a class=\"anchor\" id=\"6\"></a> \n",
    "\n",
    "Our modeling strategy has a few limitations. First, we have followed a black-box approach as we wanted a raw predictive performance over interpretability. In the future, we can consider a more detailed analysis on feature selection & ranking process as well as on scope of the hyperparameter spaces.\n",
    "\n",
    "Second, we have used Random Under Sampling after splitting the data into train-test. Instead, we could have done a SMOTETomek Resampling technique to balance target feature values. Which can give different score for AUC & other performance metrics. \n",
    "\n",
    "Third, we have only worked with a subset of the dataset; 20K observations out of total 235K in whole dataset, for shorter run times of training and testing. As all data is important & valuable, we can re-run our modelling with the whole dataset while making sure that the train and test split is done properly with balanced target feature.\n",
    "\n",
    "The XGBoosting classifier statistically outperforms the other two models. So, maybe we can improve it by further expanding the hyperparameters scope by including other parameters of this classification method."
   ]
  },
  {
   "cell_type": "markdown",
   "metadata": {},
   "source": [
    "# Summary <a class=\"anchor\" id=\"7\"></a> \n",
    "\n",
    "The XGBoosting classifier with all of 34 features selected by Random Forest Importance (RFI) produces the highest cross-validated AUC score on the training data. Also, when evaluated on the test set, the XGBoosting classifier again outperforms both Bagging classifier and k-Nearest Neighbor models with respect to AUC. We also noticed that our models are not very dependent on the number of features as selected by RFI when conditioned on the values of the hyperparameters in general. For this reason, it seems more preferable working with 15 features than working with the full feature set, which avoids overfitting and results in easier to train and understand models."
   ]
  },
  {
   "cell_type": "markdown",
   "metadata": {},
   "source": [
    "# References\n",
    "\n",
    "* Kaggle Machine Learning Data Sets : Loan Default Prediction Dataset : https://www.kaggle.com/roshansharma/loan-default-prediction.\n",
    "\n",
    "* Scikit Learn Library : https://scikit-learn.org/stable/\n",
    "\n",
    "* https://scikit-learn.org/stable/modules/generated/sklearn.metrics.classification_report.html\n",
    "\n",
    "* Imbalanced-learn : https://imbalanced-learn.readthedocs.io/en/stable/generated/imblearn.under_sampling.RandomUnderSampler.html"
   ]
  }
 ],
 "metadata": {
  "kernelspec": {
   "display_name": "Python 3",
   "language": "python",
   "name": "python3"
  },
  "language_info": {
   "codemirror_mode": {
    "name": "ipython",
    "version": 3
   },
   "file_extension": ".py",
   "mimetype": "text/x-python",
   "name": "python",
   "nbconvert_exporter": "python",
   "pygments_lexer": "ipython3",
   "version": "3.7.3"
  }
 },
 "nbformat": 4,
 "nbformat_minor": 2
}
